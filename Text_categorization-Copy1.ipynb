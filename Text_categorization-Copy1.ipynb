{
 "cells": [
  {
   "cell_type": "markdown",
   "id": "954cd4f2",
   "metadata": {},
   "source": [
    "#### Text classfiications\n",
    "steps to complete the classification process\n",
    "1. Tokenization\n",
    "2. Stop word removing\n",
    "3. Lemmatization\n",
    "4. POS tagging\n"
   ]
  },
  {
   "cell_type": "code",
   "execution_count": 1,
   "id": "c4d229fb",
   "metadata": {},
   "outputs": [],
   "source": [
    "import numpy as np\n",
    "import pandas as pd\n",
    "import nltk\n",
    "import nltk.corpus"
   ]
  },
  {
   "cell_type": "code",
   "execution_count": 2,
   "id": "ef852053",
   "metadata": {
    "scrolled": false
   },
   "outputs": [],
   "source": [
    "data = pd.read_excel('NLP_Data.xlsx')"
   ]
  },
  {
   "cell_type": "code",
   "execution_count": 3,
   "id": "bf0d6ba7",
   "metadata": {},
   "outputs": [
    {
     "data": {
      "text/html": [
       "<div>\n",
       "<style scoped>\n",
       "    .dataframe tbody tr th:only-of-type {\n",
       "        vertical-align: middle;\n",
       "    }\n",
       "\n",
       "    .dataframe tbody tr th {\n",
       "        vertical-align: top;\n",
       "    }\n",
       "\n",
       "    .dataframe thead th {\n",
       "        text-align: right;\n",
       "    }\n",
       "</style>\n",
       "<table border=\"1\" class=\"dataframe\">\n",
       "  <thead>\n",
       "    <tr style=\"text-align: right;\">\n",
       "      <th></th>\n",
       "      <th>Description of the Grievance</th>\n",
       "      <th>Grievance Category</th>\n",
       "      <th>Grievance SubCategory</th>\n",
       "    </tr>\n",
       "  </thead>\n",
       "  <tbody>\n",
       "    <tr>\n",
       "      <th>0</th>\n",
       "      <td>concerns regarding laboratory tests being bill...</td>\n",
       "      <td>Billing/Financial Dispute</td>\n",
       "      <td>Provider Claim Issues</td>\n",
       "    </tr>\n",
       "    <tr>\n",
       "      <th>1</th>\n",
       "      <td>dassatifaction with provider</td>\n",
       "      <td>Quality Of Service</td>\n",
       "      <td>Not Satisfied With Provider Services</td>\n",
       "    </tr>\n",
       "    <tr>\n",
       "      <th>2</th>\n",
       "      <td>Dissatisafaction with delay in care.</td>\n",
       "      <td>Access And Availability</td>\n",
       "      <td>Pharmacy</td>\n",
       "    </tr>\n",
       "    <tr>\n",
       "      <th>3</th>\n",
       "      <td>Dissatisafaction with Dental provider way of c...</td>\n",
       "      <td>Quality Of Service</td>\n",
       "      <td>Not Satisfied With Provider Services</td>\n",
       "    </tr>\n",
       "    <tr>\n",
       "      <th>4</th>\n",
       "      <td>Dissatisfaction for not being informed he had ...</td>\n",
       "      <td>Billing/Financial Dispute</td>\n",
       "      <td>Balance Billing</td>\n",
       "    </tr>\n",
       "    <tr>\n",
       "      <th>...</th>\n",
       "      <td>...</td>\n",
       "      <td>...</td>\n",
       "      <td>...</td>\n",
       "    </tr>\n",
       "    <tr>\n",
       "      <th>520</th>\n",
       "      <td>Who: The member is requesting appeal  Why: The...</td>\n",
       "      <td>Quality Of Care</td>\n",
       "      <td>Other</td>\n",
       "    </tr>\n",
       "    <tr>\n",
       "      <th>521</th>\n",
       "      <td>Why: Member states she was denied covid-19 bo...</td>\n",
       "      <td>Access And Availability</td>\n",
       "      <td>Other</td>\n",
       "    </tr>\n",
       "    <tr>\n",
       "      <th>522</th>\n",
       "      <td>NaN</td>\n",
       "      <td>Access And Availability</td>\n",
       "      <td>Other</td>\n",
       "    </tr>\n",
       "    <tr>\n",
       "      <th>523</th>\n",
       "      <td>NaN</td>\n",
       "      <td>Quality Of Care</td>\n",
       "      <td>Dental</td>\n",
       "    </tr>\n",
       "    <tr>\n",
       "      <th>524</th>\n",
       "      <td>NaN</td>\n",
       "      <td>Quality Of Service</td>\n",
       "      <td>Not Satisfied With Vendor Services</td>\n",
       "    </tr>\n",
       "  </tbody>\n",
       "</table>\n",
       "<p>525 rows × 3 columns</p>\n",
       "</div>"
      ],
      "text/plain": [
       "                          Description of the Grievance  \\\n",
       "0    concerns regarding laboratory tests being bill...   \n",
       "1                         dassatifaction with provider   \n",
       "2                Dissatisafaction with delay in care.    \n",
       "3    Dissatisafaction with Dental provider way of c...   \n",
       "4    Dissatisfaction for not being informed he had ...   \n",
       "..                                                 ...   \n",
       "520  Who: The member is requesting appeal  Why: The...   \n",
       "521   Why: Member states she was denied covid-19 bo...   \n",
       "522                                                NaN   \n",
       "523                                                NaN   \n",
       "524                                                NaN   \n",
       "\n",
       "            Grievance Category                 Grievance SubCategory  \n",
       "0    Billing/Financial Dispute                 Provider Claim Issues  \n",
       "1           Quality Of Service  Not Satisfied With Provider Services  \n",
       "2      Access And Availability                              Pharmacy  \n",
       "3           Quality Of Service  Not Satisfied With Provider Services  \n",
       "4    Billing/Financial Dispute                       Balance Billing  \n",
       "..                         ...                                   ...  \n",
       "520            Quality Of Care                                 Other  \n",
       "521    Access And Availability                                 Other  \n",
       "522    Access And Availability                                 Other  \n",
       "523            Quality Of Care                                Dental  \n",
       "524         Quality Of Service    Not Satisfied With Vendor Services  \n",
       "\n",
       "[525 rows x 3 columns]"
      ]
     },
     "execution_count": 3,
     "metadata": {},
     "output_type": "execute_result"
    }
   ],
   "source": [
    "data"
   ]
  },
  {
   "cell_type": "code",
   "execution_count": 4,
   "id": "c34dc626",
   "metadata": {},
   "outputs": [
    {
     "data": {
      "text/html": [
       "<div>\n",
       "<style scoped>\n",
       "    .dataframe tbody tr th:only-of-type {\n",
       "        vertical-align: middle;\n",
       "    }\n",
       "\n",
       "    .dataframe tbody tr th {\n",
       "        vertical-align: top;\n",
       "    }\n",
       "\n",
       "    .dataframe thead th {\n",
       "        text-align: right;\n",
       "    }\n",
       "</style>\n",
       "<table border=\"1\" class=\"dataframe\">\n",
       "  <thead>\n",
       "    <tr style=\"text-align: right;\">\n",
       "      <th></th>\n",
       "      <th>Description of the Grievance</th>\n",
       "      <th>Grievance Category</th>\n",
       "      <th>Grievance SubCategory</th>\n",
       "    </tr>\n",
       "  </thead>\n",
       "  <tbody>\n",
       "    <tr>\n",
       "      <th>520</th>\n",
       "      <td>Who: The member is requesting appeal  Why: The...</td>\n",
       "      <td>Quality Of Care</td>\n",
       "      <td>Other</td>\n",
       "    </tr>\n",
       "    <tr>\n",
       "      <th>521</th>\n",
       "      <td>Why: Member states she was denied covid-19 bo...</td>\n",
       "      <td>Access And Availability</td>\n",
       "      <td>Other</td>\n",
       "    </tr>\n",
       "    <tr>\n",
       "      <th>522</th>\n",
       "      <td>NaN</td>\n",
       "      <td>Access And Availability</td>\n",
       "      <td>Other</td>\n",
       "    </tr>\n",
       "    <tr>\n",
       "      <th>523</th>\n",
       "      <td>NaN</td>\n",
       "      <td>Quality Of Care</td>\n",
       "      <td>Dental</td>\n",
       "    </tr>\n",
       "    <tr>\n",
       "      <th>524</th>\n",
       "      <td>NaN</td>\n",
       "      <td>Quality Of Service</td>\n",
       "      <td>Not Satisfied With Vendor Services</td>\n",
       "    </tr>\n",
       "  </tbody>\n",
       "</table>\n",
       "</div>"
      ],
      "text/plain": [
       "                          Description of the Grievance  \\\n",
       "520  Who: The member is requesting appeal  Why: The...   \n",
       "521   Why: Member states she was denied covid-19 bo...   \n",
       "522                                                NaN   \n",
       "523                                                NaN   \n",
       "524                                                NaN   \n",
       "\n",
       "          Grievance Category               Grievance SubCategory  \n",
       "520          Quality Of Care                               Other  \n",
       "521  Access And Availability                               Other  \n",
       "522  Access And Availability                               Other  \n",
       "523          Quality Of Care                              Dental  \n",
       "524       Quality Of Service  Not Satisfied With Vendor Services  "
      ]
     },
     "execution_count": 4,
     "metadata": {},
     "output_type": "execute_result"
    }
   ],
   "source": [
    "data.tail()"
   ]
  },
  {
   "cell_type": "code",
   "execution_count": 5,
   "id": "5c2ea40b",
   "metadata": {},
   "outputs": [
    {
     "name": "stdout",
     "output_type": "stream",
     "text": [
      "<class 'pandas.core.frame.DataFrame'>\n",
      "RangeIndex: 525 entries, 0 to 524\n",
      "Data columns (total 3 columns):\n",
      " #   Column                        Non-Null Count  Dtype \n",
      "---  ------                        --------------  ----- \n",
      " 0   Description of the Grievance  522 non-null    object\n",
      " 1   Grievance Category            502 non-null    object\n",
      " 2   Grievance SubCategory         502 non-null    object\n",
      "dtypes: object(3)\n",
      "memory usage: 12.4+ KB\n"
     ]
    }
   ],
   "source": [
    "data.info()"
   ]
  },
  {
   "cell_type": "markdown",
   "id": "eb3f7949",
   "metadata": {},
   "source": [
    "### This is to check the uni values in the category"
   ]
  },
  {
   "cell_type": "code",
   "execution_count": 7,
   "id": "2f436108",
   "metadata": {},
   "outputs": [
    {
     "data": {
      "text/plain": [
       "array(['Billing/Financial Dispute', 'Quality Of Service',\n",
       "       'Access And Availability', 'Quality Of Care',\n",
       "       'Enrollment/Disenrollment', 'Benefit Package', nan, 'Marketing',\n",
       "       'Confidentiality/Privacy', 'Cms Issues'], dtype=object)"
      ]
     },
     "execution_count": 7,
     "metadata": {},
     "output_type": "execute_result"
    }
   ],
   "source": [
    "data['Grievance Category'].unique()"
   ]
  },
  {
   "cell_type": "markdown",
   "id": "6b56ad53",
   "metadata": {},
   "source": [
    "---"
   ]
  },
  {
   "cell_type": "markdown",
   "id": "0a042874",
   "metadata": {},
   "source": [
    "### Check for the unique values in the subtegory"
   ]
  },
  {
   "cell_type": "code",
   "execution_count": 6,
   "id": "3dc13e43",
   "metadata": {},
   "outputs": [
    {
     "data": {
      "text/plain": [
       "array(['Provider Claim Issues', 'Not Satisfied With Provider Services',\n",
       "       'Pharmacy', 'Balance Billing', 'Specialist', 'Pcp', 'Ancillaries',\n",
       "       'Discrimination', 'Dental', 'Other',\n",
       "       'Not Satisfied With Plan Services', 'Benefits Available In Plan',\n",
       "       'Networks', 'Hospital', 'Not Satisfied With Vendor Services', nan,\n",
       "       'Dme', 'Mail Order Refills', 'Marketing Materials',\n",
       "       'Hipaa Violation/Privacy Breach', 'Co-Payment Issues',\n",
       "       'Involuntary Enrollment/Disenrollment', 'Cob Issue', 'Formulary'],\n",
       "      dtype=object)"
      ]
     },
     "execution_count": 6,
     "metadata": {},
     "output_type": "execute_result"
    }
   ],
   "source": [
    "data['Grievance SubCategory'].unique()"
   ]
  },
  {
   "cell_type": "code",
   "execution_count": 9,
   "id": "00e3bf58",
   "metadata": {},
   "outputs": [],
   "source": [
    "data.dropna(subset=['Description of the Grievance'], inplace = True)"
   ]
  },
  {
   "cell_type": "code",
   "execution_count": 10,
   "id": "89243c47",
   "metadata": {},
   "outputs": [
    {
     "data": {
      "text/html": [
       "<div>\n",
       "<style scoped>\n",
       "    .dataframe tbody tr th:only-of-type {\n",
       "        vertical-align: middle;\n",
       "    }\n",
       "\n",
       "    .dataframe tbody tr th {\n",
       "        vertical-align: top;\n",
       "    }\n",
       "\n",
       "    .dataframe thead th {\n",
       "        text-align: right;\n",
       "    }\n",
       "</style>\n",
       "<table border=\"1\" class=\"dataframe\">\n",
       "  <thead>\n",
       "    <tr style=\"text-align: right;\">\n",
       "      <th></th>\n",
       "      <th>Description of the Grievance</th>\n",
       "      <th>Grievance Category</th>\n",
       "      <th>Grievance SubCategory</th>\n",
       "    </tr>\n",
       "  </thead>\n",
       "  <tbody>\n",
       "    <tr>\n",
       "      <th>0</th>\n",
       "      <td>concerns regarding laboratory tests being bill...</td>\n",
       "      <td>Billing/Financial Dispute</td>\n",
       "      <td>Provider Claim Issues</td>\n",
       "    </tr>\n",
       "    <tr>\n",
       "      <th>1</th>\n",
       "      <td>dassatifaction with provider</td>\n",
       "      <td>Quality Of Service</td>\n",
       "      <td>Not Satisfied With Provider Services</td>\n",
       "    </tr>\n",
       "    <tr>\n",
       "      <th>2</th>\n",
       "      <td>Dissatisafaction with delay in care.</td>\n",
       "      <td>Access And Availability</td>\n",
       "      <td>Pharmacy</td>\n",
       "    </tr>\n",
       "    <tr>\n",
       "      <th>3</th>\n",
       "      <td>Dissatisafaction with Dental provider way of c...</td>\n",
       "      <td>Quality Of Service</td>\n",
       "      <td>Not Satisfied With Provider Services</td>\n",
       "    </tr>\n",
       "    <tr>\n",
       "      <th>4</th>\n",
       "      <td>Dissatisfaction for not being informed he had ...</td>\n",
       "      <td>Billing/Financial Dispute</td>\n",
       "      <td>Balance Billing</td>\n",
       "    </tr>\n",
       "    <tr>\n",
       "      <th>...</th>\n",
       "      <td>...</td>\n",
       "      <td>...</td>\n",
       "      <td>...</td>\n",
       "    </tr>\n",
       "    <tr>\n",
       "      <th>517</th>\n",
       "      <td>Who: member. Why: member got a letter of denia...</td>\n",
       "      <td>NaN</td>\n",
       "      <td>NaN</td>\n",
       "    </tr>\n",
       "    <tr>\n",
       "      <th>518</th>\n",
       "      <td>Who: Member  Why: the cost of the member's RX ...</td>\n",
       "      <td>Benefit Package</td>\n",
       "      <td>Other</td>\n",
       "    </tr>\n",
       "    <tr>\n",
       "      <th>519</th>\n",
       "      <td>Who: The mbr  Why: The mbr is dissatisfied bec...</td>\n",
       "      <td>Quality Of Care</td>\n",
       "      <td>Pcp</td>\n",
       "    </tr>\n",
       "    <tr>\n",
       "      <th>520</th>\n",
       "      <td>Who: The member is requesting appeal  Why: The...</td>\n",
       "      <td>Quality Of Care</td>\n",
       "      <td>Other</td>\n",
       "    </tr>\n",
       "    <tr>\n",
       "      <th>521</th>\n",
       "      <td>Why: Member states she was denied covid-19 bo...</td>\n",
       "      <td>Access And Availability</td>\n",
       "      <td>Other</td>\n",
       "    </tr>\n",
       "  </tbody>\n",
       "</table>\n",
       "<p>522 rows × 3 columns</p>\n",
       "</div>"
      ],
      "text/plain": [
       "                          Description of the Grievance  \\\n",
       "0    concerns regarding laboratory tests being bill...   \n",
       "1                         dassatifaction with provider   \n",
       "2                Dissatisafaction with delay in care.    \n",
       "3    Dissatisafaction with Dental provider way of c...   \n",
       "4    Dissatisfaction for not being informed he had ...   \n",
       "..                                                 ...   \n",
       "517  Who: member. Why: member got a letter of denia...   \n",
       "518  Who: Member  Why: the cost of the member's RX ...   \n",
       "519  Who: The mbr  Why: The mbr is dissatisfied bec...   \n",
       "520  Who: The member is requesting appeal  Why: The...   \n",
       "521   Why: Member states she was denied covid-19 bo...   \n",
       "\n",
       "            Grievance Category                 Grievance SubCategory  \n",
       "0    Billing/Financial Dispute                 Provider Claim Issues  \n",
       "1           Quality Of Service  Not Satisfied With Provider Services  \n",
       "2      Access And Availability                              Pharmacy  \n",
       "3           Quality Of Service  Not Satisfied With Provider Services  \n",
       "4    Billing/Financial Dispute                       Balance Billing  \n",
       "..                         ...                                   ...  \n",
       "517                        NaN                                   NaN  \n",
       "518            Benefit Package                                 Other  \n",
       "519            Quality Of Care                                   Pcp  \n",
       "520            Quality Of Care                                 Other  \n",
       "521    Access And Availability                                 Other  \n",
       "\n",
       "[522 rows x 3 columns]"
      ]
     },
     "execution_count": 10,
     "metadata": {},
     "output_type": "execute_result"
    }
   ],
   "source": [
    "data"
   ]
  },
  {
   "cell_type": "code",
   "execution_count": 11,
   "id": "9f01a585",
   "metadata": {},
   "outputs": [
    {
     "data": {
      "text/html": [
       "<div>\n",
       "<style scoped>\n",
       "    .dataframe tbody tr th:only-of-type {\n",
       "        vertical-align: middle;\n",
       "    }\n",
       "\n",
       "    .dataframe tbody tr th {\n",
       "        vertical-align: top;\n",
       "    }\n",
       "\n",
       "    .dataframe thead th {\n",
       "        text-align: right;\n",
       "    }\n",
       "</style>\n",
       "<table border=\"1\" class=\"dataframe\">\n",
       "  <thead>\n",
       "    <tr style=\"text-align: right;\">\n",
       "      <th></th>\n",
       "      <th>Description of the Grievance</th>\n",
       "      <th>Grievance Category</th>\n",
       "      <th>Grievance SubCategory</th>\n",
       "    </tr>\n",
       "  </thead>\n",
       "  <tbody>\n",
       "    <tr>\n",
       "      <th>517</th>\n",
       "      <td>Who: member. Why: member got a letter of denia...</td>\n",
       "      <td>NaN</td>\n",
       "      <td>NaN</td>\n",
       "    </tr>\n",
       "    <tr>\n",
       "      <th>518</th>\n",
       "      <td>Who: Member  Why: the cost of the member's RX ...</td>\n",
       "      <td>Benefit Package</td>\n",
       "      <td>Other</td>\n",
       "    </tr>\n",
       "    <tr>\n",
       "      <th>519</th>\n",
       "      <td>Who: The mbr  Why: The mbr is dissatisfied bec...</td>\n",
       "      <td>Quality Of Care</td>\n",
       "      <td>Pcp</td>\n",
       "    </tr>\n",
       "    <tr>\n",
       "      <th>520</th>\n",
       "      <td>Who: The member is requesting appeal  Why: The...</td>\n",
       "      <td>Quality Of Care</td>\n",
       "      <td>Other</td>\n",
       "    </tr>\n",
       "    <tr>\n",
       "      <th>521</th>\n",
       "      <td>Why: Member states she was denied covid-19 bo...</td>\n",
       "      <td>Access And Availability</td>\n",
       "      <td>Other</td>\n",
       "    </tr>\n",
       "  </tbody>\n",
       "</table>\n",
       "</div>"
      ],
      "text/plain": [
       "                          Description of the Grievance  \\\n",
       "517  Who: member. Why: member got a letter of denia...   \n",
       "518  Who: Member  Why: the cost of the member's RX ...   \n",
       "519  Who: The mbr  Why: The mbr is dissatisfied bec...   \n",
       "520  Who: The member is requesting appeal  Why: The...   \n",
       "521   Why: Member states she was denied covid-19 bo...   \n",
       "\n",
       "          Grievance Category Grievance SubCategory  \n",
       "517                      NaN                   NaN  \n",
       "518          Benefit Package                 Other  \n",
       "519          Quality Of Care                   Pcp  \n",
       "520          Quality Of Care                 Other  \n",
       "521  Access And Availability                 Other  "
      ]
     },
     "execution_count": 11,
     "metadata": {},
     "output_type": "execute_result"
    }
   ],
   "source": [
    "data.tail()"
   ]
  },
  {
   "cell_type": "code",
   "execution_count": 12,
   "id": "f12690fb",
   "metadata": {},
   "outputs": [
    {
     "data": {
      "text/plain": [
       "23"
      ]
     },
     "execution_count": 12,
     "metadata": {},
     "output_type": "execute_result"
    }
   ],
   "source": [
    "data['Grievance Category'].isnull().sum()"
   ]
  },
  {
   "cell_type": "code",
   "execution_count": 13,
   "id": "8f92cb02",
   "metadata": {},
   "outputs": [
    {
     "data": {
      "text/plain": [
       "23"
      ]
     },
     "execution_count": 13,
     "metadata": {},
     "output_type": "execute_result"
    }
   ],
   "source": [
    "data['Grievance SubCategory'].isnull().sum()"
   ]
  },
  {
   "cell_type": "code",
   "execution_count": 12,
   "id": "213f77df",
   "metadata": {},
   "outputs": [],
   "source": [
    "#complete data set without any missing dataD\n",
    "#incomplete = data[data['Grievance Category','Grievance SubCategory'].isnull()]\n",
    "complete = data[data['Grievance Category' and 'Grievance SubCategory'].notnull()]"
   ]
  },
  {
   "cell_type": "code",
   "execution_count": 16,
   "id": "65490717",
   "metadata": {},
   "outputs": [
    {
     "data": {
      "text/plain": [
       "0"
      ]
     },
     "execution_count": 16,
     "metadata": {},
     "output_type": "execute_result"
    }
   ],
   "source": [
    "complete['Grievance SubCategory'].isnull().sum()"
   ]
  },
  {
   "cell_type": "code",
   "execution_count": 15,
   "id": "146eeb21",
   "metadata": {},
   "outputs": [
    {
     "data": {
      "text/plain": [
       "Index(['Description of the Grievance', 'Grievance Category',\n",
       "       'Grievance SubCategory'],\n",
       "      dtype='object')"
      ]
     },
     "execution_count": 15,
     "metadata": {},
     "output_type": "execute_result"
    }
   ],
   "source": [
    "complete.columns"
   ]
  },
  {
   "cell_type": "code",
   "execution_count": 17,
   "id": "024e943e",
   "metadata": {},
   "outputs": [
    {
     "name": "stderr",
     "output_type": "stream",
     "text": [
      "C:\\Users\\KIIT01\\AppData\\Local\\Temp\\ipykernel_16128\\1290504951.py:1: SettingWithCopyWarning: \n",
      "A value is trying to be set on a copy of a slice from a DataFrame\n",
      "\n",
      "See the caveats in the documentation: https://pandas.pydata.org/pandas-docs/stable/user_guide/indexing.html#returning-a-view-versus-a-copy\n",
      "  complete.rename(columns = {'Description of the Grievance': 'Grievance Description',\n"
     ]
    }
   ],
   "source": [
    "complete.rename(columns = {'Description of the Grievance': 'Grievance Description', \n",
    "                           'Grievance Category': 'Category', \n",
    "                           'Grievance SubCategory':'Subcategory'}, inplace = True)\n"
   ]
  },
  {
   "cell_type": "code",
   "execution_count": 18,
   "id": "b3f553a7",
   "metadata": {},
   "outputs": [
    {
     "data": {
      "text/html": [
       "<div>\n",
       "<style scoped>\n",
       "    .dataframe tbody tr th:only-of-type {\n",
       "        vertical-align: middle;\n",
       "    }\n",
       "\n",
       "    .dataframe tbody tr th {\n",
       "        vertical-align: top;\n",
       "    }\n",
       "\n",
       "    .dataframe thead th {\n",
       "        text-align: right;\n",
       "    }\n",
       "</style>\n",
       "<table border=\"1\" class=\"dataframe\">\n",
       "  <thead>\n",
       "    <tr style=\"text-align: right;\">\n",
       "      <th></th>\n",
       "      <th>Grievance Description</th>\n",
       "      <th>Category</th>\n",
       "      <th>Subcategory</th>\n",
       "    </tr>\n",
       "  </thead>\n",
       "  <tbody>\n",
       "    <tr>\n",
       "      <th>0</th>\n",
       "      <td>concerns regarding laboratory tests being bill...</td>\n",
       "      <td>Billing/Financial Dispute</td>\n",
       "      <td>Provider Claim Issues</td>\n",
       "    </tr>\n",
       "    <tr>\n",
       "      <th>1</th>\n",
       "      <td>dassatifaction with provider</td>\n",
       "      <td>Quality Of Service</td>\n",
       "      <td>Not Satisfied With Provider Services</td>\n",
       "    </tr>\n",
       "    <tr>\n",
       "      <th>2</th>\n",
       "      <td>Dissatisafaction with delay in care.</td>\n",
       "      <td>Access And Availability</td>\n",
       "      <td>Pharmacy</td>\n",
       "    </tr>\n",
       "    <tr>\n",
       "      <th>3</th>\n",
       "      <td>Dissatisafaction with Dental provider way of c...</td>\n",
       "      <td>Quality Of Service</td>\n",
       "      <td>Not Satisfied With Provider Services</td>\n",
       "    </tr>\n",
       "    <tr>\n",
       "      <th>4</th>\n",
       "      <td>Dissatisfaction for not being informed he had ...</td>\n",
       "      <td>Billing/Financial Dispute</td>\n",
       "      <td>Balance Billing</td>\n",
       "    </tr>\n",
       "  </tbody>\n",
       "</table>\n",
       "</div>"
      ],
      "text/plain": [
       "                               Grievance Description  \\\n",
       "0  concerns regarding laboratory tests being bill...   \n",
       "1                       dassatifaction with provider   \n",
       "2              Dissatisafaction with delay in care.    \n",
       "3  Dissatisafaction with Dental provider way of c...   \n",
       "4  Dissatisfaction for not being informed he had ...   \n",
       "\n",
       "                    Category                           Subcategory  \n",
       "0  Billing/Financial Dispute                 Provider Claim Issues  \n",
       "1         Quality Of Service  Not Satisfied With Provider Services  \n",
       "2    Access And Availability                              Pharmacy  \n",
       "3         Quality Of Service  Not Satisfied With Provider Services  \n",
       "4  Billing/Financial Dispute                       Balance Billing  "
      ]
     },
     "execution_count": 18,
     "metadata": {},
     "output_type": "execute_result"
    }
   ],
   "source": [
    "complete.head()"
   ]
  },
  {
   "cell_type": "code",
   "execution_count": 19,
   "id": "a2e538a7",
   "metadata": {},
   "outputs": [],
   "source": [
    "# description = [words.lower() for words in complete['Grievance Description']]\n",
    "# Y1 = [words for words in complete['Category']]\n",
    "# Y2 = [words for words in complete['Subcategory']]"
   ]
  },
  {
   "cell_type": "code",
   "execution_count": 19,
   "id": "489651ec",
   "metadata": {},
   "outputs": [],
   "source": [
    "description = complete['Grievance Description'].values\n",
    "Y1 = complete['Category'].values\n",
    "Y2 = complete['Category'].values"
   ]
  },
  {
   "cell_type": "code",
   "execution_count": null,
   "id": "8d36a285",
   "metadata": {},
   "outputs": [],
   "source": []
  },
  {
   "cell_type": "code",
   "execution_count": null,
   "id": "4f8bf3e4",
   "metadata": {},
   "outputs": [],
   "source": [
    "description"
   ]
  },
  {
   "cell_type": "code",
   "execution_count": 22,
   "id": "867811c3",
   "metadata": {},
   "outputs": [
    {
     "name": "stderr",
     "output_type": "stream",
     "text": [
      "[nltk_data] Downloading package stopwords to\n",
      "[nltk_data]     C:\\Users\\KIIT01\\AppData\\Roaming\\nltk_data...\n",
      "[nltk_data]   Package stopwords is already up-to-date!\n"
     ]
    },
    {
     "data": {
      "text/plain": [
       "True"
      ]
     },
     "execution_count": 22,
     "metadata": {},
     "output_type": "execute_result"
    }
   ],
   "source": [
    "from nltk.tokenize import RegexpTokenizer\n",
    "from nltk.stem.porter import PorterStemmer\n",
    "from nltk.corpus import stopwords\n",
    "\n",
    "nltk.download('stopwords')"
   ]
  },
  {
   "cell_type": "code",
   "execution_count": 23,
   "id": "12d89cdf",
   "metadata": {},
   "outputs": [],
   "source": [
    "tokenizer = RegexpTokenizer(r'\\w+')\n",
    "stop_words = set(stopwords.words('english'))\n",
    "ps = PorterStemmer()"
   ]
  },
  {
   "cell_type": "code",
   "execution_count": 24,
   "id": "59435573",
   "metadata": {},
   "outputs": [],
   "source": [
    "def cleaner(text):\n",
    "    text = text.lower()\n",
    "    tokens = tokenizer.tokenize(text)\n",
    "    new_tokens = [token for token in tokens if token not in stop_words]\n",
    "    \n",
    "    stemmed_token = [ps.stem(words) for words in new_tokens]\n",
    "    \n",
    "    clean_text = \" \".join(stemmed_token)\n",
    "    \n",
    "    return clean_text"
   ]
  },
  {
   "cell_type": "code",
   "execution_count": 25,
   "id": "a1b0848c",
   "metadata": {},
   "outputs": [],
   "source": [
    "D_clean = [cleaner(i) for i in description]"
   ]
  },
  {
   "cell_type": "markdown",
   "id": "2efae11b",
   "metadata": {},
   "source": [
    "#### Vectorize\n"
   ]
  },
  {
   "cell_type": "code",
   "execution_count": 26,
   "id": "28e23d94",
   "metadata": {},
   "outputs": [],
   "source": [
    "from sklearn.feature_extraction.text import CountVectorizer"
   ]
  },
  {
   "cell_type": "code",
   "execution_count": 61,
   "id": "0e117f38",
   "metadata": {},
   "outputs": [],
   "source": [
    "cv = CountVectorizer()\n"
   ]
  },
  {
   "cell_type": "code",
   "execution_count": 30,
   "id": "0fd7c40b",
   "metadata": {},
   "outputs": [],
   "source": [
    "from sklearn.preprocessing import LabelEncoder\n",
    "from sklearn.model_selection import train_test_split\n",
    "label = LabelEncoder()"
   ]
  },
  {
   "cell_type": "code",
   "execution_count": 31,
   "id": "bc99d1b1",
   "metadata": {},
   "outputs": [],
   "source": [
    "encode_category =  label.fit_transform(Y1)\n",
    "encode_subcategory =  label.fit_transform(Y2)"
   ]
  },
  {
   "cell_type": "code",
   "execution_count": null,
   "id": "f19623b7",
   "metadata": {},
   "outputs": [],
   "source": []
  },
  {
   "cell_type": "markdown",
   "id": "cc6ff931",
   "metadata": {},
   "source": [
    "### spliting the data"
   ]
  },
  {
   "cell_type": "code",
   "execution_count": 32,
   "id": "eb1636cc",
   "metadata": {},
   "outputs": [],
   "source": [
    "from sklearn.model_selection import train_test_split"
   ]
  },
  {
   "cell_type": "code",
   "execution_count": 33,
   "id": "54688191",
   "metadata": {},
   "outputs": [],
   "source": [
    "X_train, X_test, y_train, y_test, y2_train, y2_test = train_test_split(D_clean, \n",
    "                                                                       encode_category, \n",
    "                                                                       encode_subcategory, \n",
    "                                                                       test_size=0.2, random_state=42)"
   ]
  },
  {
   "cell_type": "markdown",
   "id": "3b26806c",
   "metadata": {},
   "source": [
    "#### Multinomial Naive bayes"
   ]
  },
  {
   "cell_type": "code",
   "execution_count": 34,
   "id": "ffeab0aa",
   "metadata": {},
   "outputs": [],
   "source": [
    "from sklearn.naive_bayes import MultinomialNB"
   ]
  },
  {
   "cell_type": "code",
   "execution_count": 35,
   "id": "21a20efd",
   "metadata": {},
   "outputs": [],
   "source": [
    "category_class = MultinomialNB()\n",
    "subcategory_class = MultinomialNB()"
   ]
  },
  {
   "cell_type": "code",
   "execution_count": 36,
   "id": "94c23dcf",
   "metadata": {},
   "outputs": [
    {
     "data": {
      "text/html": [
       "<style>#sk-container-id-1 {color: black;}#sk-container-id-1 pre{padding: 0;}#sk-container-id-1 div.sk-toggleable {background-color: white;}#sk-container-id-1 label.sk-toggleable__label {cursor: pointer;display: block;width: 100%;margin-bottom: 0;padding: 0.3em;box-sizing: border-box;text-align: center;}#sk-container-id-1 label.sk-toggleable__label-arrow:before {content: \"▸\";float: left;margin-right: 0.25em;color: #696969;}#sk-container-id-1 label.sk-toggleable__label-arrow:hover:before {color: black;}#sk-container-id-1 div.sk-estimator:hover label.sk-toggleable__label-arrow:before {color: black;}#sk-container-id-1 div.sk-toggleable__content {max-height: 0;max-width: 0;overflow: hidden;text-align: left;background-color: #f0f8ff;}#sk-container-id-1 div.sk-toggleable__content pre {margin: 0.2em;color: black;border-radius: 0.25em;background-color: #f0f8ff;}#sk-container-id-1 input.sk-toggleable__control:checked~div.sk-toggleable__content {max-height: 200px;max-width: 100%;overflow: auto;}#sk-container-id-1 input.sk-toggleable__control:checked~label.sk-toggleable__label-arrow:before {content: \"▾\";}#sk-container-id-1 div.sk-estimator input.sk-toggleable__control:checked~label.sk-toggleable__label {background-color: #d4ebff;}#sk-container-id-1 div.sk-label input.sk-toggleable__control:checked~label.sk-toggleable__label {background-color: #d4ebff;}#sk-container-id-1 input.sk-hidden--visually {border: 0;clip: rect(1px 1px 1px 1px);clip: rect(1px, 1px, 1px, 1px);height: 1px;margin: -1px;overflow: hidden;padding: 0;position: absolute;width: 1px;}#sk-container-id-1 div.sk-estimator {font-family: monospace;background-color: #f0f8ff;border: 1px dotted black;border-radius: 0.25em;box-sizing: border-box;margin-bottom: 0.5em;}#sk-container-id-1 div.sk-estimator:hover {background-color: #d4ebff;}#sk-container-id-1 div.sk-parallel-item::after {content: \"\";width: 100%;border-bottom: 1px solid gray;flex-grow: 1;}#sk-container-id-1 div.sk-label:hover label.sk-toggleable__label {background-color: #d4ebff;}#sk-container-id-1 div.sk-serial::before {content: \"\";position: absolute;border-left: 1px solid gray;box-sizing: border-box;top: 0;bottom: 0;left: 50%;z-index: 0;}#sk-container-id-1 div.sk-serial {display: flex;flex-direction: column;align-items: center;background-color: white;padding-right: 0.2em;padding-left: 0.2em;position: relative;}#sk-container-id-1 div.sk-item {position: relative;z-index: 1;}#sk-container-id-1 div.sk-parallel {display: flex;align-items: stretch;justify-content: center;background-color: white;position: relative;}#sk-container-id-1 div.sk-item::before, #sk-container-id-1 div.sk-parallel-item::before {content: \"\";position: absolute;border-left: 1px solid gray;box-sizing: border-box;top: 0;bottom: 0;left: 50%;z-index: -1;}#sk-container-id-1 div.sk-parallel-item {display: flex;flex-direction: column;z-index: 1;position: relative;background-color: white;}#sk-container-id-1 div.sk-parallel-item:first-child::after {align-self: flex-end;width: 50%;}#sk-container-id-1 div.sk-parallel-item:last-child::after {align-self: flex-start;width: 50%;}#sk-container-id-1 div.sk-parallel-item:only-child::after {width: 0;}#sk-container-id-1 div.sk-dashed-wrapped {border: 1px dashed gray;margin: 0 0.4em 0.5em 0.4em;box-sizing: border-box;padding-bottom: 0.4em;background-color: white;}#sk-container-id-1 div.sk-label label {font-family: monospace;font-weight: bold;display: inline-block;line-height: 1.2em;}#sk-container-id-1 div.sk-label-container {text-align: center;}#sk-container-id-1 div.sk-container {/* jupyter's `normalize.less` sets `[hidden] { display: none; }` but bootstrap.min.css set `[hidden] { display: none !important; }` so we also need the `!important` here to be able to override the default hidden behavior on the sphinx rendered scikit-learn.org. See: https://github.com/scikit-learn/scikit-learn/issues/21755 */display: inline-block !important;position: relative;}#sk-container-id-1 div.sk-text-repr-fallback {display: none;}</style><div id=\"sk-container-id-1\" class=\"sk-top-container\"><div class=\"sk-text-repr-fallback\"><pre>MultinomialNB()</pre><b>In a Jupyter environment, please rerun this cell to show the HTML representation or trust the notebook. <br />On GitHub, the HTML representation is unable to render, please try loading this page with nbviewer.org.</b></div><div class=\"sk-container\" hidden><div class=\"sk-item\"><div class=\"sk-estimator sk-toggleable\"><input class=\"sk-toggleable__control sk-hidden--visually\" id=\"sk-estimator-id-1\" type=\"checkbox\" checked><label for=\"sk-estimator-id-1\" class=\"sk-toggleable__label sk-toggleable__label-arrow\">MultinomialNB</label><div class=\"sk-toggleable__content\"><pre>MultinomialNB()</pre></div></div></div></div></div>"
      ],
      "text/plain": [
       "MultinomialNB()"
      ]
     },
     "execution_count": 36,
     "metadata": {},
     "output_type": "execute_result"
    }
   ],
   "source": [
    "category_class.fit(X_train, y_train)\n",
    "subcategory_class.fit(X_train, y2_train)"
   ]
  },
  {
   "cell_type": "code",
   "execution_count": 37,
   "id": "61fe1049",
   "metadata": {},
   "outputs": [],
   "source": [
    "ypre = category_class.predict(X_test)\n",
    "y2pre = subcategory_class.predict(X_test)"
   ]
  },
  {
   "cell_type": "code",
   "execution_count": 38,
   "id": "1c4f6fdd",
   "metadata": {},
   "outputs": [
    {
     "data": {
      "text/plain": [
       "array([7, 7, 7, 8, 8, 7, 0, 7, 7, 0, 0, 8, 7, 0, 0, 7, 7, 0, 7, 2, 0, 1,\n",
       "       7, 0, 8, 8, 7, 7, 7, 8, 7, 7, 7, 7, 7, 7, 7, 0, 7, 1, 7, 7, 7, 7,\n",
       "       2, 7, 8, 0, 8, 8, 8, 8, 7, 7, 7, 8, 7, 2, 8, 7, 7, 8, 8, 8, 8, 7,\n",
       "       8, 7, 7, 8, 7, 2, 8, 0, 2, 8, 1, 7, 8, 8, 7, 0, 2, 8, 2, 8, 2, 7,\n",
       "       8, 7, 7, 2, 7, 8, 7, 2, 8, 7, 7, 8])"
      ]
     },
     "execution_count": 38,
     "metadata": {},
     "output_type": "execute_result"
    }
   ],
   "source": [
    "y2pre"
   ]
  },
  {
   "cell_type": "code",
   "execution_count": 39,
   "id": "9725a45e",
   "metadata": {},
   "outputs": [],
   "source": [
    "from sklearn.metrics import accuracy_score"
   ]
  },
  {
   "cell_type": "code",
   "execution_count": 40,
   "id": "9a625e8a",
   "metadata": {},
   "outputs": [],
   "source": [
    "\n",
    "score = accuracy_score(y_test, ypre)\n",
    "score2 = accuracy_score(y_test, y2pre)"
   ]
  },
  {
   "cell_type": "code",
   "execution_count": 41,
   "id": "9d3bcd4c",
   "metadata": {},
   "outputs": [
    {
     "name": "stdout",
     "output_type": "stream",
     "text": [
      "0.54 and 0.54\n"
     ]
    }
   ],
   "source": [
    "print(f'{score} and {score2}')"
   ]
  },
  {
   "cell_type": "code",
   "execution_count": null,
   "id": "4182f940",
   "metadata": {},
   "outputs": [],
   "source": []
  },
  {
   "cell_type": "markdown",
   "id": "ef7ce39a",
   "metadata": {},
   "source": [
    "#### Tokenization"
   ]
  },
  {
   "cell_type": "code",
   "execution_count": 42,
   "id": "da78f6f8",
   "metadata": {},
   "outputs": [],
   "source": [
    "from nltk.tokenize import word_tokenize"
   ]
  },
  {
   "cell_type": "code",
   "execution_count": 43,
   "id": "a7b081a1",
   "metadata": {},
   "outputs": [],
   "source": [
    "Tokens = [word_tokenize(word) for word in description]"
   ]
  },
  {
   "cell_type": "code",
   "execution_count": 44,
   "id": "1c7bac15",
   "metadata": {},
   "outputs": [
    {
     "data": {
      "text/plain": [
       "499"
      ]
     },
     "execution_count": 44,
     "metadata": {},
     "output_type": "execute_result"
    }
   ],
   "source": [
    "len(Tokens)"
   ]
  },
  {
   "cell_type": "markdown",
   "id": "c2cc9f5f",
   "metadata": {},
   "source": [
    "#### cleaning"
   ]
  },
  {
   "cell_type": "code",
   "execution_count": 45,
   "id": "40e25373",
   "metadata": {},
   "outputs": [],
   "source": [
    "import re\n",
    "\n",
    "cleaned =[]\n",
    "for words in Tokens:\n",
    "    w=[]\n",
    "    for text in words:\n",
    "        res = re.sub(r'[^\\w\\s]', \"\", text)\n",
    "        if res != \"\":\n",
    "            w.append(res)\n",
    "    cleaned.append(w)"
   ]
  },
  {
   "cell_type": "code",
   "execution_count": 46,
   "id": "1203af76",
   "metadata": {},
   "outputs": [
    {
     "data": {
      "text/plain": [
       "499"
      ]
     },
     "execution_count": 46,
     "metadata": {},
     "output_type": "execute_result"
    }
   ],
   "source": [
    "len(cleaned)"
   ]
  },
  {
   "cell_type": "markdown",
   "id": "064d7a1e",
   "metadata": {},
   "source": [
    "#### stop words removal"
   ]
  },
  {
   "cell_type": "code",
   "execution_count": 47,
   "id": "1acc5654",
   "metadata": {},
   "outputs": [
    {
     "name": "stderr",
     "output_type": "stream",
     "text": [
      "[nltk_data] Downloading package stopwords to\n",
      "[nltk_data]     C:\\Users\\KIIT01\\AppData\\Roaming\\nltk_data...\n",
      "[nltk_data]   Package stopwords is already up-to-date!\n"
     ]
    },
    {
     "data": {
      "text/plain": [
       "True"
      ]
     },
     "execution_count": 47,
     "metadata": {},
     "output_type": "execute_result"
    }
   ],
   "source": [
    "from nltk.corpus import stopwords\n",
    "nltk.download('stopwords')"
   ]
  },
  {
   "cell_type": "code",
   "execution_count": 48,
   "id": "346fe73d",
   "metadata": {},
   "outputs": [],
   "source": [
    "clean_sw = []\n",
    "stop_words = set(stopwords.words('english'))\n",
    "for words in cleaned:\n",
    "    word = []\n",
    "    for i in words:\n",
    "        if not i in stop_words:\n",
    "            word.append(i)\n",
    "    clean_sw.append(word)"
   ]
  },
  {
   "cell_type": "code",
   "execution_count": 49,
   "id": "a7ee775a",
   "metadata": {},
   "outputs": [
    {
     "data": {
      "text/plain": [
       "499"
      ]
     },
     "execution_count": 49,
     "metadata": {},
     "output_type": "execute_result"
    }
   ],
   "source": [
    "len(clean_sw)"
   ]
  },
  {
   "cell_type": "markdown",
   "id": "66aa56d2",
   "metadata": {},
   "source": [
    "#### stemming"
   ]
  },
  {
   "cell_type": "code",
   "execution_count": 50,
   "id": "b7c57bc0",
   "metadata": {},
   "outputs": [],
   "source": [
    "from nltk.stem.porter import PorterStemmer\n",
    "port = PorterStemmer()"
   ]
  },
  {
   "cell_type": "code",
   "execution_count": 51,
   "id": "f9df26ce",
   "metadata": {},
   "outputs": [],
   "source": [
    "stemed_word =[]\n",
    "for words in clean_sw:\n",
    "    w=[]\n",
    "    for i in words:\n",
    "        w.append(port.stem(i))\n",
    "    stemed_word.append(w)"
   ]
  },
  {
   "cell_type": "code",
   "execution_count": 52,
   "id": "61be5999",
   "metadata": {},
   "outputs": [
    {
     "data": {
      "text/plain": [
       "499"
      ]
     },
     "execution_count": 52,
     "metadata": {},
     "output_type": "execute_result"
    }
   ],
   "source": [
    "len(stemed_word)"
   ]
  },
  {
   "cell_type": "markdown",
   "id": "4b82df6d",
   "metadata": {},
   "source": [
    "#### Lemmatization"
   ]
  },
  {
   "cell_type": "code",
   "execution_count": 53,
   "id": "0fcb79c1",
   "metadata": {},
   "outputs": [],
   "source": [
    "from nltk.stem.wordnet import WordNetLemmatizer"
   ]
  },
  {
   "cell_type": "code",
   "execution_count": 54,
   "id": "e674fc5a",
   "metadata": {},
   "outputs": [],
   "source": [
    "lemma = WordNetLemmatizer()"
   ]
  },
  {
   "cell_type": "code",
   "execution_count": 55,
   "id": "350fd4f8",
   "metadata": {},
   "outputs": [],
   "source": [
    "lem =[]\n",
    "\n",
    "for words in stemed_word:\n",
    "    w=[]\n",
    "    for i in words:\n",
    "        w.append(lemma.lemmatize(i))\n",
    "    lem.append(w)"
   ]
  },
  {
   "cell_type": "code",
   "execution_count": 56,
   "id": "f9c97b6b",
   "metadata": {},
   "outputs": [
    {
     "data": {
      "text/plain": [
       "499"
      ]
     },
     "execution_count": 56,
     "metadata": {},
     "output_type": "execute_result"
    }
   ],
   "source": [
    "len(lem)"
   ]
  },
  {
   "cell_type": "markdown",
   "id": "820ccb1f",
   "metadata": {},
   "source": [
    "#### Training and execution"
   ]
  },
  {
   "cell_type": "code",
   "execution_count": 57,
   "id": "5c69acd0",
   "metadata": {},
   "outputs": [],
   "source": [
    "from sklearn.preprocessing import LabelEncoder\n",
    "from sklearn.model_selection import train_test_split\n",
    "label = LabelEncoder()"
   ]
  },
  {
   "cell_type": "code",
   "execution_count": 58,
   "id": "31caff46",
   "metadata": {},
   "outputs": [],
   "source": [
    "encode_category =  label.fit_transform(Y1)\n",
    "encode_subcategory =  label.fit_transform(Y2)"
   ]
  },
  {
   "cell_type": "code",
   "execution_count": 59,
   "id": "52f06e0e",
   "metadata": {},
   "outputs": [
    {
     "data": {
      "text/plain": [
       "(499,)"
      ]
     },
     "execution_count": 59,
     "metadata": {},
     "output_type": "execute_result"
    }
   ],
   "source": [
    "encode_category.shape"
   ]
  },
  {
   "cell_type": "code",
   "execution_count": null,
   "id": "7cb1d4bf",
   "metadata": {},
   "outputs": [],
   "source": []
  },
  {
   "cell_type": "code",
   "execution_count": null,
   "id": "506aa0b3",
   "metadata": {},
   "outputs": [],
   "source": []
  }
 ],
 "metadata": {
  "kernelspec": {
   "display_name": "Python 3 (ipykernel)",
   "language": "python",
   "name": "python3"
  },
  "language_info": {
   "codemirror_mode": {
    "name": "ipython",
    "version": 3
   },
   "file_extension": ".py",
   "mimetype": "text/x-python",
   "name": "python",
   "nbconvert_exporter": "python",
   "pygments_lexer": "ipython3",
   "version": "3.11.4"
  }
 },
 "nbformat": 4,
 "nbformat_minor": 5
}
