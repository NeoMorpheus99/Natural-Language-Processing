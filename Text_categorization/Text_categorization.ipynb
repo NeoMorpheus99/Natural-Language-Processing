{
 "cells": [
  {
   "cell_type": "markdown",
   "id": "954cd4f2",
   "metadata": {},
   "source": [
    "#### Text classfiications\n",
    "steps to complete the classification process\n",
    "1. Tokenization\n",
    "2. Stop word removing\n",
    "3. Lemmatization\n",
    "4. POS tagging\n"
   ]
  },
  {
   "cell_type": "code",
   "execution_count": 43,
   "id": "c4d229fb",
   "metadata": {},
   "outputs": [
    {
     "data": {
      "text/plain": [
       "<function seaborn.rcmod.set(*args, **kwargs)>"
      ]
     },
     "execution_count": 43,
     "metadata": {},
     "output_type": "execute_result"
    }
   ],
   "source": [
    "%matplotlib inline\n",
    "import os\n",
    "import numpy as np\n",
    "import pandas as pd\n",
    "import nltk\n",
    "import nltk.corpus\n",
    "import matplotlib.pyplot as plt\n",
    "import seaborn as sns; sns.set"
   ]
  },
  {
   "cell_type": "code",
   "execution_count": 44,
   "id": "ef852053",
   "metadata": {
    "scrolled": false
   },
   "outputs": [],
   "source": [
    "data = pd.read_excel('NLP_Data.xlsx')"
   ]
  },
  {
   "cell_type": "code",
   "execution_count": 45,
   "id": "bf0d6ba7",
   "metadata": {},
   "outputs": [
    {
     "data": {
      "text/html": [
       "<div>\n",
       "<style scoped>\n",
       "    .dataframe tbody tr th:only-of-type {\n",
       "        vertical-align: middle;\n",
       "    }\n",
       "\n",
       "    .dataframe tbody tr th {\n",
       "        vertical-align: top;\n",
       "    }\n",
       "\n",
       "    .dataframe thead th {\n",
       "        text-align: right;\n",
       "    }\n",
       "</style>\n",
       "<table border=\"1\" class=\"dataframe\">\n",
       "  <thead>\n",
       "    <tr style=\"text-align: right;\">\n",
       "      <th></th>\n",
       "      <th>Description of the Grievance</th>\n",
       "      <th>Grievance Category</th>\n",
       "      <th>Grievance SubCategory</th>\n",
       "    </tr>\n",
       "  </thead>\n",
       "  <tbody>\n",
       "    <tr>\n",
       "      <th>0</th>\n",
       "      <td>concerns regarding laboratory tests being bill...</td>\n",
       "      <td>Billing/Financial Dispute</td>\n",
       "      <td>Provider Claim Issues</td>\n",
       "    </tr>\n",
       "    <tr>\n",
       "      <th>1</th>\n",
       "      <td>dassatifaction with provider</td>\n",
       "      <td>Quality Of Service</td>\n",
       "      <td>Not Satisfied With Provider Services</td>\n",
       "    </tr>\n",
       "    <tr>\n",
       "      <th>2</th>\n",
       "      <td>Dissatisafaction with delay in care.</td>\n",
       "      <td>Access And Availability</td>\n",
       "      <td>Pharmacy</td>\n",
       "    </tr>\n",
       "    <tr>\n",
       "      <th>3</th>\n",
       "      <td>Dissatisafaction with Dental provider way of c...</td>\n",
       "      <td>Quality Of Service</td>\n",
       "      <td>Not Satisfied With Provider Services</td>\n",
       "    </tr>\n",
       "    <tr>\n",
       "      <th>4</th>\n",
       "      <td>Dissatisfaction for not being informed he had ...</td>\n",
       "      <td>Billing/Financial Dispute</td>\n",
       "      <td>Balance Billing</td>\n",
       "    </tr>\n",
       "    <tr>\n",
       "      <th>...</th>\n",
       "      <td>...</td>\n",
       "      <td>...</td>\n",
       "      <td>...</td>\n",
       "    </tr>\n",
       "    <tr>\n",
       "      <th>520</th>\n",
       "      <td>Who: The member is requesting appeal  Why: The...</td>\n",
       "      <td>Quality Of Care</td>\n",
       "      <td>Other</td>\n",
       "    </tr>\n",
       "    <tr>\n",
       "      <th>521</th>\n",
       "      <td>Why: Member states she was denied covid-19 bo...</td>\n",
       "      <td>Access And Availability</td>\n",
       "      <td>Other</td>\n",
       "    </tr>\n",
       "    <tr>\n",
       "      <th>522</th>\n",
       "      <td>NaN</td>\n",
       "      <td>Access And Availability</td>\n",
       "      <td>Other</td>\n",
       "    </tr>\n",
       "    <tr>\n",
       "      <th>523</th>\n",
       "      <td>NaN</td>\n",
       "      <td>Quality Of Care</td>\n",
       "      <td>Dental</td>\n",
       "    </tr>\n",
       "    <tr>\n",
       "      <th>524</th>\n",
       "      <td>NaN</td>\n",
       "      <td>Quality Of Service</td>\n",
       "      <td>Not Satisfied With Vendor Services</td>\n",
       "    </tr>\n",
       "  </tbody>\n",
       "</table>\n",
       "<p>525 rows × 3 columns</p>\n",
       "</div>"
      ],
      "text/plain": [
       "                          Description of the Grievance  \\\n",
       "0    concerns regarding laboratory tests being bill...   \n",
       "1                         dassatifaction with provider   \n",
       "2                Dissatisafaction with delay in care.    \n",
       "3    Dissatisafaction with Dental provider way of c...   \n",
       "4    Dissatisfaction for not being informed he had ...   \n",
       "..                                                 ...   \n",
       "520  Who: The member is requesting appeal  Why: The...   \n",
       "521   Why: Member states she was denied covid-19 bo...   \n",
       "522                                                NaN   \n",
       "523                                                NaN   \n",
       "524                                                NaN   \n",
       "\n",
       "            Grievance Category                 Grievance SubCategory  \n",
       "0    Billing/Financial Dispute                 Provider Claim Issues  \n",
       "1           Quality Of Service  Not Satisfied With Provider Services  \n",
       "2      Access And Availability                              Pharmacy  \n",
       "3           Quality Of Service  Not Satisfied With Provider Services  \n",
       "4    Billing/Financial Dispute                       Balance Billing  \n",
       "..                         ...                                   ...  \n",
       "520            Quality Of Care                                 Other  \n",
       "521    Access And Availability                                 Other  \n",
       "522    Access And Availability                                 Other  \n",
       "523            Quality Of Care                                Dental  \n",
       "524         Quality Of Service    Not Satisfied With Vendor Services  \n",
       "\n",
       "[525 rows x 3 columns]"
      ]
     },
     "execution_count": 45,
     "metadata": {},
     "output_type": "execute_result"
    }
   ],
   "source": [
    "data"
   ]
  },
  {
   "cell_type": "code",
   "execution_count": 46,
   "id": "c34dc626",
   "metadata": {},
   "outputs": [
    {
     "data": {
      "text/html": [
       "<div>\n",
       "<style scoped>\n",
       "    .dataframe tbody tr th:only-of-type {\n",
       "        vertical-align: middle;\n",
       "    }\n",
       "\n",
       "    .dataframe tbody tr th {\n",
       "        vertical-align: top;\n",
       "    }\n",
       "\n",
       "    .dataframe thead th {\n",
       "        text-align: right;\n",
       "    }\n",
       "</style>\n",
       "<table border=\"1\" class=\"dataframe\">\n",
       "  <thead>\n",
       "    <tr style=\"text-align: right;\">\n",
       "      <th></th>\n",
       "      <th>Description of the Grievance</th>\n",
       "      <th>Grievance Category</th>\n",
       "      <th>Grievance SubCategory</th>\n",
       "    </tr>\n",
       "  </thead>\n",
       "  <tbody>\n",
       "    <tr>\n",
       "      <th>520</th>\n",
       "      <td>Who: The member is requesting appeal  Why: The...</td>\n",
       "      <td>Quality Of Care</td>\n",
       "      <td>Other</td>\n",
       "    </tr>\n",
       "    <tr>\n",
       "      <th>521</th>\n",
       "      <td>Why: Member states she was denied covid-19 bo...</td>\n",
       "      <td>Access And Availability</td>\n",
       "      <td>Other</td>\n",
       "    </tr>\n",
       "    <tr>\n",
       "      <th>522</th>\n",
       "      <td>NaN</td>\n",
       "      <td>Access And Availability</td>\n",
       "      <td>Other</td>\n",
       "    </tr>\n",
       "    <tr>\n",
       "      <th>523</th>\n",
       "      <td>NaN</td>\n",
       "      <td>Quality Of Care</td>\n",
       "      <td>Dental</td>\n",
       "    </tr>\n",
       "    <tr>\n",
       "      <th>524</th>\n",
       "      <td>NaN</td>\n",
       "      <td>Quality Of Service</td>\n",
       "      <td>Not Satisfied With Vendor Services</td>\n",
       "    </tr>\n",
       "  </tbody>\n",
       "</table>\n",
       "</div>"
      ],
      "text/plain": [
       "                          Description of the Grievance  \\\n",
       "520  Who: The member is requesting appeal  Why: The...   \n",
       "521   Why: Member states she was denied covid-19 bo...   \n",
       "522                                                NaN   \n",
       "523                                                NaN   \n",
       "524                                                NaN   \n",
       "\n",
       "          Grievance Category               Grievance SubCategory  \n",
       "520          Quality Of Care                               Other  \n",
       "521  Access And Availability                               Other  \n",
       "522  Access And Availability                               Other  \n",
       "523          Quality Of Care                              Dental  \n",
       "524       Quality Of Service  Not Satisfied With Vendor Services  "
      ]
     },
     "execution_count": 46,
     "metadata": {},
     "output_type": "execute_result"
    }
   ],
   "source": [
    "data.tail()"
   ]
  },
  {
   "cell_type": "code",
   "execution_count": 47,
   "id": "5c2ea40b",
   "metadata": {},
   "outputs": [
    {
     "name": "stdout",
     "output_type": "stream",
     "text": [
      "<class 'pandas.core.frame.DataFrame'>\n",
      "RangeIndex: 525 entries, 0 to 524\n",
      "Data columns (total 3 columns):\n",
      " #   Column                        Non-Null Count  Dtype \n",
      "---  ------                        --------------  ----- \n",
      " 0   Description of the Grievance  522 non-null    object\n",
      " 1   Grievance Category            502 non-null    object\n",
      " 2   Grievance SubCategory         502 non-null    object\n",
      "dtypes: object(3)\n",
      "memory usage: 12.4+ KB\n"
     ]
    }
   ],
   "source": [
    "data.info()"
   ]
  },
  {
   "cell_type": "markdown",
   "id": "eb3f7949",
   "metadata": {},
   "source": [
    "### This is to check the uni values in the category"
   ]
  },
  {
   "cell_type": "code",
   "execution_count": 48,
   "id": "2f436108",
   "metadata": {},
   "outputs": [
    {
     "data": {
      "text/plain": [
       "array(['Billing/Financial Dispute', 'Quality Of Service',\n",
       "       'Access And Availability', 'Quality Of Care',\n",
       "       'Enrollment/Disenrollment', 'Benefit Package', nan, 'Marketing',\n",
       "       'Confidentiality/Privacy', 'Cms Issues'], dtype=object)"
      ]
     },
     "execution_count": 48,
     "metadata": {},
     "output_type": "execute_result"
    }
   ],
   "source": [
    "data['Grievance Category'].unique()"
   ]
  },
  {
   "cell_type": "markdown",
   "id": "6b56ad53",
   "metadata": {},
   "source": [
    "---"
   ]
  },
  {
   "cell_type": "markdown",
   "id": "0a042874",
   "metadata": {},
   "source": [
    "### Check for the unique values in the subtegory"
   ]
  },
  {
   "cell_type": "code",
   "execution_count": 49,
   "id": "3dc13e43",
   "metadata": {},
   "outputs": [
    {
     "data": {
      "text/plain": [
       "array(['Provider Claim Issues', 'Not Satisfied With Provider Services',\n",
       "       'Pharmacy', 'Balance Billing', 'Specialist', 'Pcp', 'Ancillaries',\n",
       "       'Discrimination', 'Dental', 'Other',\n",
       "       'Not Satisfied With Plan Services', 'Benefits Available In Plan',\n",
       "       'Networks', 'Hospital', 'Not Satisfied With Vendor Services', nan,\n",
       "       'Dme', 'Mail Order Refills', 'Marketing Materials',\n",
       "       'Hipaa Violation/Privacy Breach', 'Co-Payment Issues',\n",
       "       'Involuntary Enrollment/Disenrollment', 'Cob Issue', 'Formulary'],\n",
       "      dtype=object)"
      ]
     },
     "execution_count": 49,
     "metadata": {},
     "output_type": "execute_result"
    }
   ],
   "source": [
    "data['Grievance SubCategory'].unique()"
   ]
  },
  {
   "cell_type": "code",
   "execution_count": 50,
   "id": "00e3bf58",
   "metadata": {},
   "outputs": [],
   "source": [
    "data.dropna(subset=['Description of the Grievance'], inplace = True)"
   ]
  },
  {
   "cell_type": "code",
   "execution_count": 51,
   "id": "89243c47",
   "metadata": {},
   "outputs": [
    {
     "data": {
      "text/html": [
       "<div>\n",
       "<style scoped>\n",
       "    .dataframe tbody tr th:only-of-type {\n",
       "        vertical-align: middle;\n",
       "    }\n",
       "\n",
       "    .dataframe tbody tr th {\n",
       "        vertical-align: top;\n",
       "    }\n",
       "\n",
       "    .dataframe thead th {\n",
       "        text-align: right;\n",
       "    }\n",
       "</style>\n",
       "<table border=\"1\" class=\"dataframe\">\n",
       "  <thead>\n",
       "    <tr style=\"text-align: right;\">\n",
       "      <th></th>\n",
       "      <th>Description of the Grievance</th>\n",
       "      <th>Grievance Category</th>\n",
       "      <th>Grievance SubCategory</th>\n",
       "    </tr>\n",
       "  </thead>\n",
       "  <tbody>\n",
       "    <tr>\n",
       "      <th>0</th>\n",
       "      <td>concerns regarding laboratory tests being bill...</td>\n",
       "      <td>Billing/Financial Dispute</td>\n",
       "      <td>Provider Claim Issues</td>\n",
       "    </tr>\n",
       "    <tr>\n",
       "      <th>1</th>\n",
       "      <td>dassatifaction with provider</td>\n",
       "      <td>Quality Of Service</td>\n",
       "      <td>Not Satisfied With Provider Services</td>\n",
       "    </tr>\n",
       "    <tr>\n",
       "      <th>2</th>\n",
       "      <td>Dissatisafaction with delay in care.</td>\n",
       "      <td>Access And Availability</td>\n",
       "      <td>Pharmacy</td>\n",
       "    </tr>\n",
       "    <tr>\n",
       "      <th>3</th>\n",
       "      <td>Dissatisafaction with Dental provider way of c...</td>\n",
       "      <td>Quality Of Service</td>\n",
       "      <td>Not Satisfied With Provider Services</td>\n",
       "    </tr>\n",
       "    <tr>\n",
       "      <th>4</th>\n",
       "      <td>Dissatisfaction for not being informed he had ...</td>\n",
       "      <td>Billing/Financial Dispute</td>\n",
       "      <td>Balance Billing</td>\n",
       "    </tr>\n",
       "    <tr>\n",
       "      <th>...</th>\n",
       "      <td>...</td>\n",
       "      <td>...</td>\n",
       "      <td>...</td>\n",
       "    </tr>\n",
       "    <tr>\n",
       "      <th>517</th>\n",
       "      <td>Who: member. Why: member got a letter of denia...</td>\n",
       "      <td>NaN</td>\n",
       "      <td>NaN</td>\n",
       "    </tr>\n",
       "    <tr>\n",
       "      <th>518</th>\n",
       "      <td>Who: Member  Why: the cost of the member's RX ...</td>\n",
       "      <td>Benefit Package</td>\n",
       "      <td>Other</td>\n",
       "    </tr>\n",
       "    <tr>\n",
       "      <th>519</th>\n",
       "      <td>Who: The mbr  Why: The mbr is dissatisfied bec...</td>\n",
       "      <td>Quality Of Care</td>\n",
       "      <td>Pcp</td>\n",
       "    </tr>\n",
       "    <tr>\n",
       "      <th>520</th>\n",
       "      <td>Who: The member is requesting appeal  Why: The...</td>\n",
       "      <td>Quality Of Care</td>\n",
       "      <td>Other</td>\n",
       "    </tr>\n",
       "    <tr>\n",
       "      <th>521</th>\n",
       "      <td>Why: Member states she was denied covid-19 bo...</td>\n",
       "      <td>Access And Availability</td>\n",
       "      <td>Other</td>\n",
       "    </tr>\n",
       "  </tbody>\n",
       "</table>\n",
       "<p>522 rows × 3 columns</p>\n",
       "</div>"
      ],
      "text/plain": [
       "                          Description of the Grievance  \\\n",
       "0    concerns regarding laboratory tests being bill...   \n",
       "1                         dassatifaction with provider   \n",
       "2                Dissatisafaction with delay in care.    \n",
       "3    Dissatisafaction with Dental provider way of c...   \n",
       "4    Dissatisfaction for not being informed he had ...   \n",
       "..                                                 ...   \n",
       "517  Who: member. Why: member got a letter of denia...   \n",
       "518  Who: Member  Why: the cost of the member's RX ...   \n",
       "519  Who: The mbr  Why: The mbr is dissatisfied bec...   \n",
       "520  Who: The member is requesting appeal  Why: The...   \n",
       "521   Why: Member states she was denied covid-19 bo...   \n",
       "\n",
       "            Grievance Category                 Grievance SubCategory  \n",
       "0    Billing/Financial Dispute                 Provider Claim Issues  \n",
       "1           Quality Of Service  Not Satisfied With Provider Services  \n",
       "2      Access And Availability                              Pharmacy  \n",
       "3           Quality Of Service  Not Satisfied With Provider Services  \n",
       "4    Billing/Financial Dispute                       Balance Billing  \n",
       "..                         ...                                   ...  \n",
       "517                        NaN                                   NaN  \n",
       "518            Benefit Package                                 Other  \n",
       "519            Quality Of Care                                   Pcp  \n",
       "520            Quality Of Care                                 Other  \n",
       "521    Access And Availability                                 Other  \n",
       "\n",
       "[522 rows x 3 columns]"
      ]
     },
     "execution_count": 51,
     "metadata": {},
     "output_type": "execute_result"
    }
   ],
   "source": [
    "data"
   ]
  },
  {
   "cell_type": "code",
   "execution_count": 52,
   "id": "9f01a585",
   "metadata": {},
   "outputs": [
    {
     "data": {
      "text/html": [
       "<div>\n",
       "<style scoped>\n",
       "    .dataframe tbody tr th:only-of-type {\n",
       "        vertical-align: middle;\n",
       "    }\n",
       "\n",
       "    .dataframe tbody tr th {\n",
       "        vertical-align: top;\n",
       "    }\n",
       "\n",
       "    .dataframe thead th {\n",
       "        text-align: right;\n",
       "    }\n",
       "</style>\n",
       "<table border=\"1\" class=\"dataframe\">\n",
       "  <thead>\n",
       "    <tr style=\"text-align: right;\">\n",
       "      <th></th>\n",
       "      <th>Description of the Grievance</th>\n",
       "      <th>Grievance Category</th>\n",
       "      <th>Grievance SubCategory</th>\n",
       "    </tr>\n",
       "  </thead>\n",
       "  <tbody>\n",
       "    <tr>\n",
       "      <th>517</th>\n",
       "      <td>Who: member. Why: member got a letter of denia...</td>\n",
       "      <td>NaN</td>\n",
       "      <td>NaN</td>\n",
       "    </tr>\n",
       "    <tr>\n",
       "      <th>518</th>\n",
       "      <td>Who: Member  Why: the cost of the member's RX ...</td>\n",
       "      <td>Benefit Package</td>\n",
       "      <td>Other</td>\n",
       "    </tr>\n",
       "    <tr>\n",
       "      <th>519</th>\n",
       "      <td>Who: The mbr  Why: The mbr is dissatisfied bec...</td>\n",
       "      <td>Quality Of Care</td>\n",
       "      <td>Pcp</td>\n",
       "    </tr>\n",
       "    <tr>\n",
       "      <th>520</th>\n",
       "      <td>Who: The member is requesting appeal  Why: The...</td>\n",
       "      <td>Quality Of Care</td>\n",
       "      <td>Other</td>\n",
       "    </tr>\n",
       "    <tr>\n",
       "      <th>521</th>\n",
       "      <td>Why: Member states she was denied covid-19 bo...</td>\n",
       "      <td>Access And Availability</td>\n",
       "      <td>Other</td>\n",
       "    </tr>\n",
       "  </tbody>\n",
       "</table>\n",
       "</div>"
      ],
      "text/plain": [
       "                          Description of the Grievance  \\\n",
       "517  Who: member. Why: member got a letter of denia...   \n",
       "518  Who: Member  Why: the cost of the member's RX ...   \n",
       "519  Who: The mbr  Why: The mbr is dissatisfied bec...   \n",
       "520  Who: The member is requesting appeal  Why: The...   \n",
       "521   Why: Member states she was denied covid-19 bo...   \n",
       "\n",
       "          Grievance Category Grievance SubCategory  \n",
       "517                      NaN                   NaN  \n",
       "518          Benefit Package                 Other  \n",
       "519          Quality Of Care                   Pcp  \n",
       "520          Quality Of Care                 Other  \n",
       "521  Access And Availability                 Other  "
      ]
     },
     "execution_count": 52,
     "metadata": {},
     "output_type": "execute_result"
    }
   ],
   "source": [
    "data.tail()"
   ]
  },
  {
   "cell_type": "code",
   "execution_count": 53,
   "id": "f12690fb",
   "metadata": {},
   "outputs": [
    {
     "data": {
      "text/plain": [
       "23"
      ]
     },
     "execution_count": 53,
     "metadata": {},
     "output_type": "execute_result"
    }
   ],
   "source": [
    "data['Grievance Category'].isnull().sum()"
   ]
  },
  {
   "cell_type": "code",
   "execution_count": 54,
   "id": "8f92cb02",
   "metadata": {},
   "outputs": [
    {
     "data": {
      "text/plain": [
       "23"
      ]
     },
     "execution_count": 54,
     "metadata": {},
     "output_type": "execute_result"
    }
   ],
   "source": [
    "data['Grievance SubCategory'].isnull().sum()"
   ]
  },
  {
   "cell_type": "code",
   "execution_count": 55,
   "id": "213f77df",
   "metadata": {},
   "outputs": [],
   "source": [
    "#complete data set without any missing dataD\n",
    "incomplete = data[data['Grievance Category' or 'Grievance SubCategory'].isnull()]\n",
    "complete = data[data['Grievance Category'].notnull()]"
   ]
  },
  {
   "cell_type": "code",
   "execution_count": 56,
   "id": "65490717",
   "metadata": {},
   "outputs": [
    {
     "data": {
      "text/plain": [
       "0"
      ]
     },
     "execution_count": 56,
     "metadata": {},
     "output_type": "execute_result"
    }
   ],
   "source": [
    "complete['Grievance SubCategory'].isnull().sum()"
   ]
  },
  {
   "cell_type": "code",
   "execution_count": 57,
   "id": "146eeb21",
   "metadata": {},
   "outputs": [
    {
     "data": {
      "text/plain": [
       "Index(['Description of the Grievance', 'Grievance Category',\n",
       "       'Grievance SubCategory'],\n",
       "      dtype='object')"
      ]
     },
     "execution_count": 57,
     "metadata": {},
     "output_type": "execute_result"
    }
   ],
   "source": [
    "complete.columns"
   ]
  },
  {
   "cell_type": "code",
   "execution_count": 58,
   "id": "024e943e",
   "metadata": {},
   "outputs": [
    {
     "name": "stderr",
     "output_type": "stream",
     "text": [
      "C:\\Users\\KIIT01\\AppData\\Local\\Temp\\ipykernel_8368\\1290504951.py:1: SettingWithCopyWarning: \n",
      "A value is trying to be set on a copy of a slice from a DataFrame\n",
      "\n",
      "See the caveats in the documentation: https://pandas.pydata.org/pandas-docs/stable/user_guide/indexing.html#returning-a-view-versus-a-copy\n",
      "  complete.rename(columns = {'Description of the Grievance': 'Grievance Description',\n"
     ]
    }
   ],
   "source": [
    "complete.rename(columns = {'Description of the Grievance': 'Grievance Description', \n",
    "                           'Grievance Category': 'Category', \n",
    "                           'Grievance SubCategory':'Subcategory'}, inplace = True)\n"
   ]
  },
  {
   "cell_type": "code",
   "execution_count": 74,
   "id": "b3f553a7",
   "metadata": {},
   "outputs": [
    {
     "data": {
      "text/html": [
       "<div>\n",
       "<style scoped>\n",
       "    .dataframe tbody tr th:only-of-type {\n",
       "        vertical-align: middle;\n",
       "    }\n",
       "\n",
       "    .dataframe tbody tr th {\n",
       "        vertical-align: top;\n",
       "    }\n",
       "\n",
       "    .dataframe thead th {\n",
       "        text-align: right;\n",
       "    }\n",
       "</style>\n",
       "<table border=\"1\" class=\"dataframe\">\n",
       "  <thead>\n",
       "    <tr style=\"text-align: right;\">\n",
       "      <th></th>\n",
       "      <th>Grievance Description</th>\n",
       "      <th>Category</th>\n",
       "      <th>Subcategory</th>\n",
       "    </tr>\n",
       "  </thead>\n",
       "  <tbody>\n",
       "    <tr>\n",
       "      <th>0</th>\n",
       "      <td>concerns regarding laboratory tests being bill...</td>\n",
       "      <td>Billing/Financial Dispute</td>\n",
       "      <td>Provider Claim Issues</td>\n",
       "    </tr>\n",
       "    <tr>\n",
       "      <th>1</th>\n",
       "      <td>dassatifaction with provider</td>\n",
       "      <td>Quality Of Service</td>\n",
       "      <td>Not Satisfied With Provider Services</td>\n",
       "    </tr>\n",
       "    <tr>\n",
       "      <th>2</th>\n",
       "      <td>Dissatisafaction with delay in care.</td>\n",
       "      <td>Access And Availability</td>\n",
       "      <td>Pharmacy</td>\n",
       "    </tr>\n",
       "    <tr>\n",
       "      <th>3</th>\n",
       "      <td>Dissatisafaction with Dental provider way of c...</td>\n",
       "      <td>Quality Of Service</td>\n",
       "      <td>Not Satisfied With Provider Services</td>\n",
       "    </tr>\n",
       "    <tr>\n",
       "      <th>4</th>\n",
       "      <td>Dissatisfaction for not being informed he had ...</td>\n",
       "      <td>Billing/Financial Dispute</td>\n",
       "      <td>Balance Billing</td>\n",
       "    </tr>\n",
       "  </tbody>\n",
       "</table>\n",
       "</div>"
      ],
      "text/plain": [
       "                               Grievance Description  \\\n",
       "0  concerns regarding laboratory tests being bill...   \n",
       "1                       dassatifaction with provider   \n",
       "2              Dissatisafaction with delay in care.    \n",
       "3  Dissatisafaction with Dental provider way of c...   \n",
       "4  Dissatisfaction for not being informed he had ...   \n",
       "\n",
       "                    Category                           Subcategory  \n",
       "0  Billing/Financial Dispute                 Provider Claim Issues  \n",
       "1         Quality Of Service  Not Satisfied With Provider Services  \n",
       "2    Access And Availability                              Pharmacy  \n",
       "3         Quality Of Service  Not Satisfied With Provider Services  \n",
       "4  Billing/Financial Dispute                       Balance Billing  "
      ]
     },
     "execution_count": 74,
     "metadata": {},
     "output_type": "execute_result"
    }
   ],
   "source": [
    "complete.head()"
   ]
  },
  {
   "cell_type": "code",
   "execution_count": 60,
   "id": "d4226f05",
   "metadata": {},
   "outputs": [],
   "source": [
    "description = [word.lower() for word in complete['Grievance Description']]"
   ]
  },
  {
   "cell_type": "markdown",
   "id": "ef7ce39a",
   "metadata": {},
   "source": [
    "#### Tokenization"
   ]
  },
  {
   "cell_type": "code",
   "execution_count": 61,
   "id": "da78f6f8",
   "metadata": {},
   "outputs": [],
   "source": [
    "from nltk.tokenize import word_tokenize"
   ]
  },
  {
   "cell_type": "code",
   "execution_count": 62,
   "id": "a7b081a1",
   "metadata": {},
   "outputs": [],
   "source": [
    "Tokens = [word_tokenize(word) for word in description]"
   ]
  },
  {
   "cell_type": "markdown",
   "id": "c2cc9f5f",
   "metadata": {},
   "source": [
    "#### cleaning"
   ]
  },
  {
   "cell_type": "code",
   "execution_count": 63,
   "id": "40e25373",
   "metadata": {},
   "outputs": [],
   "source": [
    "import re\n",
    "\n",
    "cleaned =[]\n",
    "for words in Tokens:\n",
    "    w=[]\n",
    "    for text in words:\n",
    "        res = re.sub(r'[^\\w\\s]', \"\", text)\n",
    "        if res != \"\":\n",
    "            w.append(res)\n",
    "    cleaned.append(w)"
   ]
  },
  {
   "cell_type": "markdown",
   "id": "064d7a1e",
   "metadata": {},
   "source": [
    "#### stop words removal"
   ]
  },
  {
   "cell_type": "code",
   "execution_count": 64,
   "id": "1acc5654",
   "metadata": {},
   "outputs": [],
   "source": [
    "from nltk.corpus import stopwords"
   ]
  },
  {
   "cell_type": "code",
   "execution_count": 65,
   "id": "346fe73d",
   "metadata": {},
   "outputs": [],
   "source": [
    "clean_sw = []\n",
    "\n",
    "for words in cleaned:\n",
    "    word = []\n",
    "    for i in words:\n",
    "        if not i in stopwords.words('english'):\n",
    "            word.append(i)\n",
    "        clean_sw.append(word)"
   ]
  },
  {
   "cell_type": "markdown",
   "id": "66aa56d2",
   "metadata": {},
   "source": [
    "#### stemming"
   ]
  },
  {
   "cell_type": "code",
   "execution_count": 66,
   "id": "b7c57bc0",
   "metadata": {},
   "outputs": [],
   "source": [
    "from nltk.stem.porter import PorterStemmer\n",
    "port = PorterStemmer()"
   ]
  },
  {
   "cell_type": "code",
   "execution_count": 67,
   "id": "f9df26ce",
   "metadata": {},
   "outputs": [],
   "source": [
    "stemed_word =[]\n",
    "for words in clean_sw:\n",
    "    w=[]\n",
    "    for i in words:\n",
    "        w.append(port.stem(i))\n",
    "    stemed_word.append(w)"
   ]
  },
  {
   "cell_type": "markdown",
   "id": "4b82df6d",
   "metadata": {},
   "source": [
    "#### Lemmatization"
   ]
  },
  {
   "cell_type": "code",
   "execution_count": 68,
   "id": "0fcb79c1",
   "metadata": {},
   "outputs": [],
   "source": [
    "from nltk.stem.wordnet import WordNetLemmatizer"
   ]
  },
  {
   "cell_type": "code",
   "execution_count": 69,
   "id": "e674fc5a",
   "metadata": {},
   "outputs": [],
   "source": [
    "lemma = WordNetLemmatizer()"
   ]
  },
  {
   "cell_type": "code",
   "execution_count": 70,
   "id": "350fd4f8",
   "metadata": {},
   "outputs": [],
   "source": [
    "lem =[]\n",
    "\n",
    "for words in stemed_word:\n",
    "    w=[]\n",
    "    for i in words:\n",
    "        w.append(lemma.lemmatize(i))\n",
    "    lem.append(w)"
   ]
  },
  {
   "cell_type": "code",
   "execution_count": 87,
   "id": "f9c97b6b",
   "metadata": {},
   "outputs": [
    {
     "data": {
      "text/plain": [
       "13018"
      ]
     },
     "execution_count": 87,
     "metadata": {},
     "output_type": "execute_result"
    }
   ],
   "source": [
    "len(lem)"
   ]
  },
  {
   "cell_type": "code",
   "execution_count": 88,
   "id": "80302fd6",
   "metadata": {},
   "outputs": [
    {
     "ename": "ValueError",
     "evalue": "Length of values (13018) does not match length of index (499)",
     "output_type": "error",
     "traceback": [
      "\u001b[1;31m---------------------------------------------------------------------------\u001b[0m",
      "\u001b[1;31mValueError\u001b[0m                                Traceback (most recent call last)",
      "Cell \u001b[1;32mIn[88], line 1\u001b[0m\n\u001b[1;32m----> 1\u001b[0m complete[\u001b[38;5;124m'\u001b[39m\u001b[38;5;124mGrievance Description\u001b[39m\u001b[38;5;124m'\u001b[39m] \u001b[38;5;241m=\u001b[39m [word \u001b[38;5;28;01mfor\u001b[39;00m word \u001b[38;5;129;01min\u001b[39;00m lem]\n",
      "File \u001b[1;32mC:\\ProgramData\\anaconda3\\Lib\\site-packages\\pandas\\core\\frame.py:3980\u001b[0m, in \u001b[0;36mDataFrame.__setitem__\u001b[1;34m(self, key, value)\u001b[0m\n\u001b[0;32m   3977\u001b[0m     \u001b[38;5;28mself\u001b[39m\u001b[38;5;241m.\u001b[39m_setitem_array([key], value)\n\u001b[0;32m   3978\u001b[0m \u001b[38;5;28;01melse\u001b[39;00m:\n\u001b[0;32m   3979\u001b[0m     \u001b[38;5;66;03m# set column\u001b[39;00m\n\u001b[1;32m-> 3980\u001b[0m     \u001b[38;5;28mself\u001b[39m\u001b[38;5;241m.\u001b[39m_set_item(key, value)\n",
      "File \u001b[1;32mC:\\ProgramData\\anaconda3\\Lib\\site-packages\\pandas\\core\\frame.py:4174\u001b[0m, in \u001b[0;36mDataFrame._set_item\u001b[1;34m(self, key, value)\u001b[0m\n\u001b[0;32m   4164\u001b[0m \u001b[38;5;28;01mdef\u001b[39;00m \u001b[38;5;21m_set_item\u001b[39m(\u001b[38;5;28mself\u001b[39m, key, value) \u001b[38;5;241m-\u001b[39m\u001b[38;5;241m>\u001b[39m \u001b[38;5;28;01mNone\u001b[39;00m:\n\u001b[0;32m   4165\u001b[0m \u001b[38;5;250m    \u001b[39m\u001b[38;5;124;03m\"\"\"\u001b[39;00m\n\u001b[0;32m   4166\u001b[0m \u001b[38;5;124;03m    Add series to DataFrame in specified column.\u001b[39;00m\n\u001b[0;32m   4167\u001b[0m \n\u001b[1;32m   (...)\u001b[0m\n\u001b[0;32m   4172\u001b[0m \u001b[38;5;124;03m    ensure homogeneity.\u001b[39;00m\n\u001b[0;32m   4173\u001b[0m \u001b[38;5;124;03m    \"\"\"\u001b[39;00m\n\u001b[1;32m-> 4174\u001b[0m     value \u001b[38;5;241m=\u001b[39m \u001b[38;5;28mself\u001b[39m\u001b[38;5;241m.\u001b[39m_sanitize_column(value)\n\u001b[0;32m   4176\u001b[0m     \u001b[38;5;28;01mif\u001b[39;00m (\n\u001b[0;32m   4177\u001b[0m         key \u001b[38;5;129;01min\u001b[39;00m \u001b[38;5;28mself\u001b[39m\u001b[38;5;241m.\u001b[39mcolumns\n\u001b[0;32m   4178\u001b[0m         \u001b[38;5;129;01mand\u001b[39;00m value\u001b[38;5;241m.\u001b[39mndim \u001b[38;5;241m==\u001b[39m \u001b[38;5;241m1\u001b[39m\n\u001b[0;32m   4179\u001b[0m         \u001b[38;5;129;01mand\u001b[39;00m \u001b[38;5;129;01mnot\u001b[39;00m is_extension_array_dtype(value)\n\u001b[0;32m   4180\u001b[0m     ):\n\u001b[0;32m   4181\u001b[0m         \u001b[38;5;66;03m# broadcast across multiple columns if necessary\u001b[39;00m\n\u001b[0;32m   4182\u001b[0m         \u001b[38;5;28;01mif\u001b[39;00m \u001b[38;5;129;01mnot\u001b[39;00m \u001b[38;5;28mself\u001b[39m\u001b[38;5;241m.\u001b[39mcolumns\u001b[38;5;241m.\u001b[39mis_unique \u001b[38;5;129;01mor\u001b[39;00m \u001b[38;5;28misinstance\u001b[39m(\u001b[38;5;28mself\u001b[39m\u001b[38;5;241m.\u001b[39mcolumns, MultiIndex):\n",
      "File \u001b[1;32mC:\\ProgramData\\anaconda3\\Lib\\site-packages\\pandas\\core\\frame.py:4915\u001b[0m, in \u001b[0;36mDataFrame._sanitize_column\u001b[1;34m(self, value)\u001b[0m\n\u001b[0;32m   4912\u001b[0m     \u001b[38;5;28;01mreturn\u001b[39;00m _reindex_for_setitem(Series(value), \u001b[38;5;28mself\u001b[39m\u001b[38;5;241m.\u001b[39mindex)\n\u001b[0;32m   4914\u001b[0m \u001b[38;5;28;01mif\u001b[39;00m is_list_like(value):\n\u001b[1;32m-> 4915\u001b[0m     com\u001b[38;5;241m.\u001b[39mrequire_length_match(value, \u001b[38;5;28mself\u001b[39m\u001b[38;5;241m.\u001b[39mindex)\n\u001b[0;32m   4916\u001b[0m \u001b[38;5;28;01mreturn\u001b[39;00m sanitize_array(value, \u001b[38;5;28mself\u001b[39m\u001b[38;5;241m.\u001b[39mindex, copy\u001b[38;5;241m=\u001b[39m\u001b[38;5;28;01mTrue\u001b[39;00m, allow_2d\u001b[38;5;241m=\u001b[39m\u001b[38;5;28;01mTrue\u001b[39;00m)\n",
      "File \u001b[1;32mC:\\ProgramData\\anaconda3\\Lib\\site-packages\\pandas\\core\\common.py:571\u001b[0m, in \u001b[0;36mrequire_length_match\u001b[1;34m(data, index)\u001b[0m\n\u001b[0;32m    567\u001b[0m \u001b[38;5;250m\u001b[39m\u001b[38;5;124;03m\"\"\"\u001b[39;00m\n\u001b[0;32m    568\u001b[0m \u001b[38;5;124;03mCheck the length of data matches the length of the index.\u001b[39;00m\n\u001b[0;32m    569\u001b[0m \u001b[38;5;124;03m\"\"\"\u001b[39;00m\n\u001b[0;32m    570\u001b[0m \u001b[38;5;28;01mif\u001b[39;00m \u001b[38;5;28mlen\u001b[39m(data) \u001b[38;5;241m!=\u001b[39m \u001b[38;5;28mlen\u001b[39m(index):\n\u001b[1;32m--> 571\u001b[0m     \u001b[38;5;28;01mraise\u001b[39;00m \u001b[38;5;167;01mValueError\u001b[39;00m(\n\u001b[0;32m    572\u001b[0m         \u001b[38;5;124m\"\u001b[39m\u001b[38;5;124mLength of values \u001b[39m\u001b[38;5;124m\"\u001b[39m\n\u001b[0;32m    573\u001b[0m         \u001b[38;5;124mf\u001b[39m\u001b[38;5;124m\"\u001b[39m\u001b[38;5;124m(\u001b[39m\u001b[38;5;132;01m{\u001b[39;00m\u001b[38;5;28mlen\u001b[39m(data)\u001b[38;5;132;01m}\u001b[39;00m\u001b[38;5;124m) \u001b[39m\u001b[38;5;124m\"\u001b[39m\n\u001b[0;32m    574\u001b[0m         \u001b[38;5;124m\"\u001b[39m\u001b[38;5;124mdoes not match length of index \u001b[39m\u001b[38;5;124m\"\u001b[39m\n\u001b[0;32m    575\u001b[0m         \u001b[38;5;124mf\u001b[39m\u001b[38;5;124m\"\u001b[39m\u001b[38;5;124m(\u001b[39m\u001b[38;5;132;01m{\u001b[39;00m\u001b[38;5;28mlen\u001b[39m(index)\u001b[38;5;132;01m}\u001b[39;00m\u001b[38;5;124m)\u001b[39m\u001b[38;5;124m\"\u001b[39m\n\u001b[0;32m    576\u001b[0m     )\n",
      "\u001b[1;31mValueError\u001b[0m: Length of values (13018) does not match length of index (499)"
     ]
    }
   ],
   "source": [
    "complete['Grievance Description'] = [word for word in lem]"
   ]
  },
  {
   "cell_type": "markdown",
   "id": "820ccb1f",
   "metadata": {},
   "source": [
    "#### Training and execution"
   ]
  },
  {
   "cell_type": "code",
   "execution_count": 71,
   "id": "5c69acd0",
   "metadata": {},
   "outputs": [],
   "source": [
    "from sklearn.preprocessing import LabelEncoder\n",
    "from sklearn.model_selection import train_test_split\n",
    "le= LabelEncoder()"
   ]
  },
  {
   "cell_type": "code",
   "execution_count": null,
   "id": "31caff46",
   "metadata": {},
   "outputs": [],
   "source": []
  },
  {
   "cell_type": "code",
   "execution_count": null,
   "id": "52f06e0e",
   "metadata": {},
   "outputs": [],
   "source": []
  }
 ],
 "metadata": {
  "kernelspec": {
   "display_name": "Python 3 (ipykernel)",
   "language": "python",
   "name": "python3"
  },
  "language_info": {
   "codemirror_mode": {
    "name": "ipython",
    "version": 3
   },
   "file_extension": ".py",
   "mimetype": "text/x-python",
   "name": "python",
   "nbconvert_exporter": "python",
   "pygments_lexer": "ipython3",
   "version": "3.11.4"
  }
 },
 "nbformat": 4,
 "nbformat_minor": 5
}
