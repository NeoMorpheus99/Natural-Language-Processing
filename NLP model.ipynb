{
 "cells": [
  {
   "cell_type": "markdown",
   "id": "7e269bc4",
   "metadata": {},
   "source": [
    "# 1> basic cleanup:\n",
    "    convertion to lower case\n",
    "    removeral of white spaces\n",
    "    removal of punctuations\n",
    "    substitute of acronyms\n",
    "    substitutions of contractions\n",
    "    removal of stop words\n",
    "    spelling corrections\n",
    "    stemming and lemmetiosation\n",
    "    discardments of non alphabetic words"
   ]
  },
  {
   "cell_type": "code",
   "execution_count": 26,
   "id": "60a3fb0b",
   "metadata": {},
   "outputs": [],
   "source": [
    "import pandas as pd\n",
    "import numpy as np\n",
    "import string, re\n",
    "import nltk\n",
    "from string import punctuation\n",
    "from nltk.tokenize import word_tokenize\n",
    "from nltk.tokenize import RegexpTokenizer\n",
    "from nltk.corpus import stopwords\n",
    "#pip install num2words\n",
    "#from num2words import num2words\n",
    "#!pip install pyspellchecker\n",
    "#from spellchecker import SpellChecker\n",
    "from nltk.stem.porter import PorterStemmer\n",
    "from nltk.stem import WordNetLemmatizer\n",
    "import spacy"
   ]
  },
  {
   "cell_type": "code",
   "execution_count": 27,
   "id": "2c715eab",
   "metadata": {},
   "outputs": [],
   "source": [
    "NLP_data = pd.read_excel('NLP_Data.xlsx')"
   ]
  },
  {
   "cell_type": "code",
   "execution_count": 28,
   "id": "0e7c2002",
   "metadata": {
    "scrolled": true
   },
   "outputs": [
    {
     "data": {
      "text/html": [
       "<div>\n",
       "<style scoped>\n",
       "    .dataframe tbody tr th:only-of-type {\n",
       "        vertical-align: middle;\n",
       "    }\n",
       "\n",
       "    .dataframe tbody tr th {\n",
       "        vertical-align: top;\n",
       "    }\n",
       "\n",
       "    .dataframe thead th {\n",
       "        text-align: right;\n",
       "    }\n",
       "</style>\n",
       "<table border=\"1\" class=\"dataframe\">\n",
       "  <thead>\n",
       "    <tr style=\"text-align: right;\">\n",
       "      <th></th>\n",
       "      <th>Description of the Grievance</th>\n",
       "      <th>Grievance Category</th>\n",
       "      <th>Grievance SubCategory</th>\n",
       "    </tr>\n",
       "  </thead>\n",
       "  <tbody>\n",
       "    <tr>\n",
       "      <th>0</th>\n",
       "      <td>concerns regarding laboratory tests being bill...</td>\n",
       "      <td>Billing/Financial Dispute</td>\n",
       "      <td>Provider Claim Issues</td>\n",
       "    </tr>\n",
       "    <tr>\n",
       "      <th>1</th>\n",
       "      <td>dassatifaction with provider</td>\n",
       "      <td>Quality Of Service</td>\n",
       "      <td>Not Satisfied With Provider Services</td>\n",
       "    </tr>\n",
       "    <tr>\n",
       "      <th>2</th>\n",
       "      <td>Dissatisafaction with delay in care.</td>\n",
       "      <td>Access And Availability</td>\n",
       "      <td>Pharmacy</td>\n",
       "    </tr>\n",
       "    <tr>\n",
       "      <th>3</th>\n",
       "      <td>Dissatisafaction with Dental provider way of c...</td>\n",
       "      <td>Quality Of Service</td>\n",
       "      <td>Not Satisfied With Provider Services</td>\n",
       "    </tr>\n",
       "    <tr>\n",
       "      <th>4</th>\n",
       "      <td>Dissatisfaction for not being informed he had ...</td>\n",
       "      <td>Billing/Financial Dispute</td>\n",
       "      <td>Balance Billing</td>\n",
       "    </tr>\n",
       "    <tr>\n",
       "      <th>...</th>\n",
       "      <td>...</td>\n",
       "      <td>...</td>\n",
       "      <td>...</td>\n",
       "    </tr>\n",
       "    <tr>\n",
       "      <th>520</th>\n",
       "      <td>Who: The member is requesting appeal  Why: The...</td>\n",
       "      <td>Quality Of Care</td>\n",
       "      <td>Other</td>\n",
       "    </tr>\n",
       "    <tr>\n",
       "      <th>521</th>\n",
       "      <td>Why: Member states she was denied covid-19 bo...</td>\n",
       "      <td>Access And Availability</td>\n",
       "      <td>Other</td>\n",
       "    </tr>\n",
       "    <tr>\n",
       "      <th>522</th>\n",
       "      <td>NaN</td>\n",
       "      <td>Access And Availability</td>\n",
       "      <td>Other</td>\n",
       "    </tr>\n",
       "    <tr>\n",
       "      <th>523</th>\n",
       "      <td>NaN</td>\n",
       "      <td>Quality Of Care</td>\n",
       "      <td>Dental</td>\n",
       "    </tr>\n",
       "    <tr>\n",
       "      <th>524</th>\n",
       "      <td>NaN</td>\n",
       "      <td>Quality Of Service</td>\n",
       "      <td>Not Satisfied With Vendor Services</td>\n",
       "    </tr>\n",
       "  </tbody>\n",
       "</table>\n",
       "<p>525 rows × 3 columns</p>\n",
       "</div>"
      ],
      "text/plain": [
       "                          Description of the Grievance  \\\n",
       "0    concerns regarding laboratory tests being bill...   \n",
       "1                         dassatifaction with provider   \n",
       "2                Dissatisafaction with delay in care.    \n",
       "3    Dissatisafaction with Dental provider way of c...   \n",
       "4    Dissatisfaction for not being informed he had ...   \n",
       "..                                                 ...   \n",
       "520  Who: The member is requesting appeal  Why: The...   \n",
       "521   Why: Member states she was denied covid-19 bo...   \n",
       "522                                                NaN   \n",
       "523                                                NaN   \n",
       "524                                                NaN   \n",
       "\n",
       "            Grievance Category                 Grievance SubCategory  \n",
       "0    Billing/Financial Dispute                 Provider Claim Issues  \n",
       "1           Quality Of Service  Not Satisfied With Provider Services  \n",
       "2      Access And Availability                              Pharmacy  \n",
       "3           Quality Of Service  Not Satisfied With Provider Services  \n",
       "4    Billing/Financial Dispute                       Balance Billing  \n",
       "..                         ...                                   ...  \n",
       "520            Quality Of Care                                 Other  \n",
       "521    Access And Availability                                 Other  \n",
       "522    Access And Availability                                 Other  \n",
       "523            Quality Of Care                                Dental  \n",
       "524         Quality Of Service    Not Satisfied With Vendor Services  \n",
       "\n",
       "[525 rows x 3 columns]"
      ]
     },
     "execution_count": 28,
     "metadata": {},
     "output_type": "execute_result"
    }
   ],
   "source": [
    "NLP_data"
   ]
  },
  {
   "cell_type": "markdown",
   "id": "49560f29",
   "metadata": {},
   "source": [
    "# checking Duplicates and missing values "
   ]
  },
  {
   "cell_type": "code",
   "execution_count": null,
   "id": "c0a5a80c",
   "metadata": {},
   "outputs": [],
   "source": [
    "print(pd.Series({\"NUmber of Observations with missing Value\": len(NLP_data) - len(NLP_data.dropna()), \"Number of duplicates observations\": NLP_data.duplicated().sum()}).to_string())"
   ]
  },
  {
   "cell_type": "markdown",
   "id": "2e76c207",
   "metadata": {},
   "source": [
    "###### droping all the blank data rows"
   ]
  },
  {
   "cell_type": "code",
   "execution_count": 3,
   "id": "8b4b62cc",
   "metadata": {},
   "outputs": [
    {
     "ename": "NameError",
     "evalue": "name 'NLP_data' is not defined",
     "output_type": "error",
     "traceback": [
      "\u001b[1;31m---------------------------------------------------------------------------\u001b[0m",
      "\u001b[1;31mNameError\u001b[0m                                 Traceback (most recent call last)",
      "Cell \u001b[1;32mIn[3], line 1\u001b[0m\n\u001b[1;32m----> 1\u001b[0m NLP_data\u001b[38;5;241m.\u001b[39mdropna(inplace \u001b[38;5;241m=\u001b[39m \u001b[38;5;28;01mTrue\u001b[39;00m)\n\u001b[0;32m      2\u001b[0m NLP_data\u001b[38;5;241m.\u001b[39mreset_index(drop \u001b[38;5;241m=\u001b[39m \u001b[38;5;28;01mTrue\u001b[39;00m, inplace \u001b[38;5;241m=\u001b[39m \u001b[38;5;28;01mTrue\u001b[39;00m)\n",
      "\u001b[1;31mNameError\u001b[0m: name 'NLP_data' is not defined"
     ]
    }
   ],
   "source": [
    "NLP_data.dropna(inplace = True)\n",
    "NLP_data.reset_index(drop = True, inplace = True)"
   ]
  },
  {
   "cell_type": "markdown",
   "id": "c4ef6066",
   "metadata": {},
   "source": [
    "###### encoding the grievances category coloumn to numberes in a new colomn\"grievances category_ney\""
   ]
  },
  {
   "cell_type": "code",
   "execution_count": 6,
   "id": "1f293ac2",
   "metadata": {},
   "outputs": [],
   "source": [
    "from sklearn import preprocessing\n",
    "label_encoder = preprocessing.LabelEncoder()\n",
    "NLP_data['Grievance Category_new'] = label_encoder.fit_transform(NLP_data['Grievance Category'])"
   ]
  },
  {
   "cell_type": "code",
   "execution_count": 7,
   "id": "3bc25ffd",
   "metadata": {},
   "outputs": [
    {
     "data": {
      "text/html": [
       "<div>\n",
       "<style scoped>\n",
       "    .dataframe tbody tr th:only-of-type {\n",
       "        vertical-align: middle;\n",
       "    }\n",
       "\n",
       "    .dataframe tbody tr th {\n",
       "        vertical-align: top;\n",
       "    }\n",
       "\n",
       "    .dataframe thead th {\n",
       "        text-align: right;\n",
       "    }\n",
       "</style>\n",
       "<table border=\"1\" class=\"dataframe\">\n",
       "  <thead>\n",
       "    <tr style=\"text-align: right;\">\n",
       "      <th></th>\n",
       "      <th>Description of the Grievance</th>\n",
       "      <th>Grievance Category</th>\n",
       "      <th>Grievance SubCategory</th>\n",
       "      <th>Grievance Category_new</th>\n",
       "    </tr>\n",
       "  </thead>\n",
       "  <tbody>\n",
       "    <tr>\n",
       "      <th>0</th>\n",
       "      <td>concerns regarding laboratory tests being bill...</td>\n",
       "      <td>Billing/Financial Dispute</td>\n",
       "      <td>Provider Claim Issues</td>\n",
       "      <td>2</td>\n",
       "    </tr>\n",
       "    <tr>\n",
       "      <th>1</th>\n",
       "      <td>dassatifaction with provider</td>\n",
       "      <td>Quality Of Service</td>\n",
       "      <td>Not Satisfied With Provider Services</td>\n",
       "      <td>8</td>\n",
       "    </tr>\n",
       "    <tr>\n",
       "      <th>2</th>\n",
       "      <td>Dissatisafaction with delay in care.</td>\n",
       "      <td>Access And Availability</td>\n",
       "      <td>Pharmacy</td>\n",
       "      <td>0</td>\n",
       "    </tr>\n",
       "    <tr>\n",
       "      <th>3</th>\n",
       "      <td>Dissatisafaction with Dental provider way of c...</td>\n",
       "      <td>Quality Of Service</td>\n",
       "      <td>Not Satisfied With Provider Services</td>\n",
       "      <td>8</td>\n",
       "    </tr>\n",
       "    <tr>\n",
       "      <th>4</th>\n",
       "      <td>Dissatisfaction for not being informed he had ...</td>\n",
       "      <td>Billing/Financial Dispute</td>\n",
       "      <td>Balance Billing</td>\n",
       "      <td>2</td>\n",
       "    </tr>\n",
       "    <tr>\n",
       "      <th>...</th>\n",
       "      <td>...</td>\n",
       "      <td>...</td>\n",
       "      <td>...</td>\n",
       "      <td>...</td>\n",
       "    </tr>\n",
       "    <tr>\n",
       "      <th>494</th>\n",
       "      <td>Who: Member is appealing charge for no show of...</td>\n",
       "      <td>Quality Of Service</td>\n",
       "      <td>Other</td>\n",
       "      <td>8</td>\n",
       "    </tr>\n",
       "    <tr>\n",
       "      <th>495</th>\n",
       "      <td>Who: Member  Why: the cost of the member's RX ...</td>\n",
       "      <td>Benefit Package</td>\n",
       "      <td>Other</td>\n",
       "      <td>1</td>\n",
       "    </tr>\n",
       "    <tr>\n",
       "      <th>496</th>\n",
       "      <td>Who: The mbr  Why: The mbr is dissatisfied bec...</td>\n",
       "      <td>Quality Of Care</td>\n",
       "      <td>Pcp</td>\n",
       "      <td>7</td>\n",
       "    </tr>\n",
       "    <tr>\n",
       "      <th>497</th>\n",
       "      <td>Who: The member is requesting appeal  Why: The...</td>\n",
       "      <td>Quality Of Care</td>\n",
       "      <td>Other</td>\n",
       "      <td>7</td>\n",
       "    </tr>\n",
       "    <tr>\n",
       "      <th>498</th>\n",
       "      <td>Why: Member states she was denied covid-19 bo...</td>\n",
       "      <td>Access And Availability</td>\n",
       "      <td>Other</td>\n",
       "      <td>0</td>\n",
       "    </tr>\n",
       "  </tbody>\n",
       "</table>\n",
       "<p>499 rows × 4 columns</p>\n",
       "</div>"
      ],
      "text/plain": [
       "                          Description of the Grievance  \\\n",
       "0    concerns regarding laboratory tests being bill...   \n",
       "1                         dassatifaction with provider   \n",
       "2                Dissatisafaction with delay in care.    \n",
       "3    Dissatisafaction with Dental provider way of c...   \n",
       "4    Dissatisfaction for not being informed he had ...   \n",
       "..                                                 ...   \n",
       "494  Who: Member is appealing charge for no show of...   \n",
       "495  Who: Member  Why: the cost of the member's RX ...   \n",
       "496  Who: The mbr  Why: The mbr is dissatisfied bec...   \n",
       "497  Who: The member is requesting appeal  Why: The...   \n",
       "498   Why: Member states she was denied covid-19 bo...   \n",
       "\n",
       "            Grievance Category                 Grievance SubCategory  \\\n",
       "0    Billing/Financial Dispute                 Provider Claim Issues   \n",
       "1           Quality Of Service  Not Satisfied With Provider Services   \n",
       "2      Access And Availability                              Pharmacy   \n",
       "3           Quality Of Service  Not Satisfied With Provider Services   \n",
       "4    Billing/Financial Dispute                       Balance Billing   \n",
       "..                         ...                                   ...   \n",
       "494         Quality Of Service                                 Other   \n",
       "495            Benefit Package                                 Other   \n",
       "496            Quality Of Care                                   Pcp   \n",
       "497            Quality Of Care                                 Other   \n",
       "498    Access And Availability                                 Other   \n",
       "\n",
       "     Grievance Category_new  \n",
       "0                         2  \n",
       "1                         8  \n",
       "2                         0  \n",
       "3                         8  \n",
       "4                         2  \n",
       "..                      ...  \n",
       "494                       8  \n",
       "495                       1  \n",
       "496                       7  \n",
       "497                       7  \n",
       "498                       0  \n",
       "\n",
       "[499 rows x 4 columns]"
      ]
     },
     "execution_count": 7,
     "metadata": {},
     "output_type": "execute_result"
    }
   ],
   "source": [
    "NLP_data"
   ]
  },
  {
   "cell_type": "markdown",
   "id": "b0c4e1ff",
   "metadata": {},
   "source": [
    "###### getting all the unique values for groevances category"
   ]
  },
  {
   "cell_type": "code",
   "execution_count": 8,
   "id": "ceb2e711",
   "metadata": {},
   "outputs": [
    {
     "data": {
      "text/plain": [
       "array(['Billing/Financial Dispute', 'Quality Of Service',\n",
       "       'Access And Availability', 'Quality Of Care',\n",
       "       'Enrollment/Disenrollment', 'Benefit Package', 'Marketing',\n",
       "       'Confidentiality/Privacy', 'Cms Issues'], dtype=object)"
      ]
     },
     "execution_count": 8,
     "metadata": {},
     "output_type": "execute_result"
    }
   ],
   "source": [
    "NLP_data['Grievance Category'].unique()"
   ]
  },
  {
   "cell_type": "markdown",
   "id": "14a91f19",
   "metadata": {},
   "source": [
    "###### converting data to lower cases"
   ]
  },
  {
   "cell_type": "code",
   "execution_count": 9,
   "id": "806e3d97",
   "metadata": {},
   "outputs": [],
   "source": [
    "data = []\n",
    "for text in NLP_data['Description of the Grievance']:\n",
    "    x = text.lower()\n",
    "    data.append(x)\n",
    "NLP_data['Description_new'] = data\n",
    "data.clear()"
   ]
  },
  {
   "cell_type": "markdown",
   "id": "c891c0c8",
   "metadata": {},
   "source": [
    "###### removing whitespaces"
   ]
  },
  {
   "cell_type": "code",
   "execution_count": 10,
   "id": "eb1f3186",
   "metadata": {},
   "outputs": [],
   "source": [
    "for text in NLP_data['Description_new']:\n",
    "    x = text.strip()\n",
    "    data.append(x)\n",
    "NLP_data['Description_new'] = data\n",
    "data.clear()"
   ]
  },
  {
   "cell_type": "markdown",
   "id": "70116294",
   "metadata": {},
   "source": [
    "###### removing punctuations"
   ]
  },
  {
   "cell_type": "code",
   "execution_count": 11,
   "id": "9c5db659",
   "metadata": {},
   "outputs": [],
   "source": [
    "def remove_punctuation(text):\n",
    "    punct_str = string.punctuation\n",
    "    punct_str = punct_str.replace(\"'\", \"\")\n",
    "    return text.translate(str.maketrans(\"\", \"\", punct_str))\n",
    "for text in NLP_data['Description_new']:\n",
    "    x = remove_punctuation(text)\n",
    "    data.append(x)\n",
    "NLP_data['Description_new'] = data\n",
    "data.clear()"
   ]
  },
  {
   "cell_type": "markdown",
   "id": "5fc7a5af",
   "metadata": {},
   "source": [
    "###### removing acronyms"
   ]
  },
  {
   "cell_type": "code",
   "execution_count": 12,
   "id": "2155b84c",
   "metadata": {},
   "outputs": [],
   "source": [
    "# Dictionary of acronyms\n",
    "acronyms_url = 'https://raw.githubusercontent.com/sugatagh/E-commerce-Text-Classification/main/JSON/english_acronyms.json'\n",
    "acronyms_dict = pd.read_json(acronyms_url, typ = 'series')\n",
    "# List of acronyms\n",
    "acronyms_list = list(acronyms_dict.keys())\n",
    "# Function to convert contractions in a text\n",
    "def convert_acronyms(text):\n",
    "    token = RegexpTokenizer('\\s+', gaps = True)\n",
    "    iterable = token.tokenize(text)\n",
    "    words = []\n",
    "    for word in iterable:\n",
    "        if word in acronyms_list:\n",
    "            words = words + acronyms_dict[word].split()\n",
    "        else:\n",
    "            words = words + word.split()\n",
    "    \n",
    "    text_converted = \" \".join(words)\n",
    "    return text_converted\n"
   ]
  },
  {
   "cell_type": "code",
   "execution_count": 13,
   "id": "6ff2408b",
   "metadata": {},
   "outputs": [],
   "source": [
    "for text in NLP_data['Description_new']:\n",
    "    x = convert_acronyms(text)\n",
    "    data.append(x)\n",
    "NLP_data['Description_new'] = data\n",
    "data.clear()"
   ]
  },
  {
   "cell_type": "markdown",
   "id": "61af5f39",
   "metadata": {},
   "source": [
    "#### removing of contactions\n",
    "contractions : a contraction is a shortened form of word or a phrase, obtained by dropping one or more letters"
   ]
  },
  {
   "cell_type": "code",
   "execution_count": 14,
   "id": "105b8a11",
   "metadata": {},
   "outputs": [],
   "source": [
    "#contractions dictionary\n",
    "contractions_url = 'https://raw.githubusercontent.com/sugatagh/E-commerce-Text-Classification/main/JSON/english_contractions.json'\n",
    "contractions_dict = pd.read_json(contractions_url, typ = 'series')\n",
    "#list of contraction\n",
    "contractions_list = list(contractions_dict.keys())\n",
    "def convert_contractions(text):\n",
    "    token = RegexpTokenizer('\\s+', gaps = True)\n",
    "    iterable = token.tokenize(text)\n",
    "    words = []\n",
    "    for word in iterable:\n",
    "        if word in contractions_list:\n",
    "            words = words + contractions_dict[word].split()\n",
    "        else:\n",
    "            words = words + word.split()\n",
    "    \n",
    "    text_converted = \" \".join(words)\n",
    "    return text_converted\n",
    "for text in NLP_data['Description_new']:\n",
    "    x = convert_contractions(text)\n",
    "    data.append(x)\n",
    "NLP_data['Description_new'] = data\n",
    "data.clear()"
   ]
  },
  {
   "cell_type": "markdown",
   "id": "f111b2ed",
   "metadata": {},
   "source": [
    "###### removing stopwords"
   ]
  },
  {
   "cell_type": "code",
   "execution_count": 15,
   "id": "e6a60735",
   "metadata": {},
   "outputs": [
    {
     "name": "stderr",
     "output_type": "stream",
     "text": [
      "[nltk_data] Downloading package stopwords to C:\\Users\\Harshit\n",
      "[nltk_data]     Anand\\AppData\\Roaming\\nltk_data...\n",
      "[nltk_data]   Package stopwords is already up-to-date!\n"
     ]
    }
   ],
   "source": [
    "# stopwords\n",
    "nltk.download('stopwords')\n",
    "stops = stopwords.words(\"english\")\n",
    "# additional stopwords\n",
    "addstops = [\"among\", \"onto\", \"shall\", \"thrice\", \"thus\", \"twice\", \"unto\", \"us\", \"would\"]\n",
    "allstops = stops + addstops\n",
    "# Function to remove stopwords from a list of texts\n",
    "def remove_stopwords(text):\n",
    "    token = RegexpTokenizer('\\s+', gaps = True)\n",
    "    iterable = token.tokenize(text)\n",
    "    return \" \".join([word for word in iterable if word not in allstops])\n",
    "for text in NLP_data['Description_new']:\n",
    "    x = remove_stopwords(text)\n",
    "    data.append(x)\n",
    "NLP_data['Description_new'] = data\n",
    "data.clear()"
   ]
  },
  {
   "cell_type": "markdown",
   "id": "b59b1e15",
   "metadata": {},
   "source": [
    "###### spelling correction"
   ]
  },
  {
   "cell_type": "raw",
   "id": "6f84f040",
   "metadata": {},
   "source": [
    "spell = SpellChecker()\n",
    "def pyspellchecker(text):\n",
    "    token = RegexpTokenizer('\\s+', gaps = True)\n",
    "    iterable = token.tokenize(text)\n",
    "    word_list = iterable\n",
    "    word_list_corrected = []\n",
    "    for word in word_list:\n",
    "        if word in spell.unknown(word_list):\n",
    "            word_corrected = spell.correction(word)\n",
    "            if word_corrected == None:\n",
    "                word_list_corrected.append(word)\n",
    "            else:\n",
    "                word_list_corrected.append(word_corrected)\n",
    "        else:\n",
    "            word_list_corrected.append(word)\n",
    "    text_corrected = \" \".join(word_list_corrected)\n",
    "    return text_corrected"
   ]
  },
  {
   "cell_type": "raw",
   "id": "9c26689e",
   "metadata": {},
   "source": [
    "for text in NLP_data['Description_new']:\n",
    "    x = pyspellchecker(text)\n",
    "    data.append(x)\n",
    "NLP_data['Description_new'] = data\n",
    "data.clear()"
   ]
  },
  {
   "cell_type": "markdown",
   "id": "47d6b48b",
   "metadata": {},
   "source": [
    "###### stemming"
   ]
  },
  {
   "cell_type": "markdown",
   "id": "14c0eb22",
   "metadata": {},
   "source": [
    "stemming is process of reducing thw word to their root form or stem.\n",
    "\n",
    "lemmatization provides a more suphistiacted approach by utilizing a corpus to match root forms of the words."
   ]
  },
  {
   "cell_type": "code",
   "execution_count": 16,
   "id": "62219931",
   "metadata": {},
   "outputs": [],
   "source": [
    "#stemming\n",
    "stemmer = PorterStemmer()\n",
    "def text_stemmer(text):\n",
    "    token = RegexpTokenizer('\\s+', gaps = True)\n",
    "    iterable = token.tokenize(text)\n",
    "    text_stem = \" \".join([stemmer.stem(word) for word in iterable])\n",
    "    return text_stem\n",
    "for text in NLP_data['Description_new']:\n",
    "    x = text_stemmer(text)\n",
    "    data.append(x)\n",
    "NLP_data['Description_new'] = data\n",
    "data.clear()"
   ]
  },
  {
   "cell_type": "raw",
   "id": "ed8dfdf3",
   "metadata": {},
   "source": [
    "#lemmatization\n",
    "spacy_lemmatizer = spacy.load(\"en_core_web_sm\", disable = ['parser', 'ner'])\n",
    "def text_lemmatization(text):\n",
    "    load_model = spacy.load(\"en_core_web_sm\", disable = ['parser','ner'])\n",
    "    text = load_model(text)\n",
    "    text_spacy = \" \".join([token.lemma_ for token in text])\n",
    "    return text_spacy"
   ]
  },
  {
   "cell_type": "code",
   "execution_count": 17,
   "id": "d44c37d6",
   "metadata": {},
   "outputs": [],
   "source": [
    "spacy_lemmatizer = spacy.load(\"en_core_web_sm\", disable = ['parser', 'ner'])\n",
    "def text_lemmatizer(text):\n",
    "    text_spacy = \" \".join([token.lemma_ for token in spacy_lemmatizer(text)])\n",
    "    return text_spacy"
   ]
  },
  {
   "cell_type": "code",
   "execution_count": 18,
   "id": "043d67f2",
   "metadata": {},
   "outputs": [],
   "source": [
    "for text in NLP_data['Description_new']:\n",
    "    x = text_lemmatizer(text)\n",
    "    data.append(x)\n",
    "NLP_data['Description_new'] = data\n",
    "data.clear()"
   ]
  },
  {
   "cell_type": "markdown",
   "id": "d6e7bb7f",
   "metadata": {},
   "source": [
    "###### discardment of non alphabetic words"
   ]
  },
  {
   "cell_type": "code",
   "execution_count": 19,
   "id": "7f08cc27",
   "metadata": {},
   "outputs": [],
   "source": [
    "def discard_non_alpha(text):\n",
    "    token = RegexpTokenizer('\\s+', gaps = True)\n",
    "    iterable = token.tokenize(text)\n",
    "    word_list_non_alpha = [word for word in iterable if word.isalpha()]\n",
    "    text_non_alpha = \" \".join(word_list_non_alpha)\n",
    "    return text_non_alpha\n",
    "for text in NLP_data['Description_new']:\n",
    "    x = discard_non_alpha(text)\n",
    "    data.append(x)\n",
    "NLP_data['Description_new'] = data\n",
    "data.clear()"
   ]
  },
  {
   "cell_type": "markdown",
   "id": "1c1d5e60",
   "metadata": {},
   "source": [
    "# vectorization"
   ]
  },
  {
   "cell_type": "code",
   "execution_count": 20,
   "id": "9362cf49",
   "metadata": {},
   "outputs": [],
   "source": [
    "from sklearn.feature_extraction.text import TfidfVectorizer"
   ]
  },
  {
   "cell_type": "code",
   "execution_count": 21,
   "id": "c455e400",
   "metadata": {},
   "outputs": [],
   "source": [
    "X_train_norm, y_train = NLP_data['Description_new'].tolist(), NLP_data['Grievance Category'].tolist()"
   ]
  },
  {
   "cell_type": "code",
   "execution_count": 24,
   "id": "380f8d73",
   "metadata": {},
   "outputs": [],
   "source": [
    "X_val_norm, y_val = NLP_data['Description_new'].tolist(), NLP_data['Grievance Category'].tolist()"
   ]
  },
  {
   "cell_type": "code",
   "execution_count": 23,
   "id": "043567e8",
   "metadata": {},
   "outputs": [],
   "source": [
    "X_test_norm, y_test = NLP_data['Description_new'].tolist(), NLP_data['Grievance Category'].tolist()"
   ]
  },
  {
   "cell_type": "code",
   "execution_count": 25,
   "id": "ac561c36",
   "metadata": {},
   "outputs": [],
   "source": [
    "TfidfVec = TfidfVectorizer(ngram_range = (1, 1))\n",
    "X_train_tfidf = TfidfVec.fit_transform(X_train_norm)\n",
    "X_val_tfidf = TfidfVec.transform(X_val_norm)\n",
    "X_test_tfidf = TfidfVec.transform(X_test_norm)"
   ]
  },
  {
   "cell_type": "code",
   "execution_count": 26,
   "id": "d2805b53",
   "metadata": {},
   "outputs": [],
   "source": [
    "from sklearn.linear_model import LogisticRegression\n",
    "from sklearn.neighbors import KNeighborsClassifier\n",
    "from sklearn.tree import DecisionTreeClassifier\n",
    "from sklearn import svm\n",
    "from sklearn.ensemble import RandomForestClassifier\n",
    "from sklearn.linear_model import SGDClassifier\n",
    "from sklearn.linear_model import RidgeClassifier\n",
    "from sklearn.ensemble import AdaBoostClassifier"
   ]
  },
  {
   "cell_type": "code",
   "execution_count": 27,
   "id": "7752de4d",
   "metadata": {},
   "outputs": [],
   "source": [
    "names = [\n",
    "    \"Logistic Regression\",\n",
    "    \"KNN Classifier\",\n",
    "    \"Decision Tree\",\n",
    "    \"Linear SVM\",\n",
    "]\n",
    "\n",
    "models = [\n",
    "    LogisticRegression(max_iter = 1000),\n",
    "    KNeighborsClassifier(n_neighbors = 149, n_jobs = -1),\n",
    "    DecisionTreeClassifier(),\n",
    "    svm.SVC(kernel = 'linear'),\n",
    "]"
   ]
  },
  {
   "cell_type": "code",
   "execution_count": 55,
   "id": "534f3810",
   "metadata": {},
   "outputs": [],
   "source": [
    "def score(X_train, y_train, X_val, y_val, names = names, models = models):\n",
    "    score_df, score_train, score_val = pd.DataFrame(), [], []\n",
    "    x = time.time()\n",
    "    for model in models:\n",
    "        model.fit(X_train, y_train)\n",
    "        y_train_pred, y_val_pred = model.predict(X_train), model.predict(X_val)\n",
    "        score_train.append(accuracy_score(y_train, y_train_pred))\n",
    "        score_val.append(accuracy_score(y_val, y_val_pred))\n",
    "    \n",
    "    score_df[\"Classifier\"], score_df[\"Testing accuracy\"] = names, score_train, score_val\n",
    "    return score_df"
   ]
  },
  {
   "cell_type": "code",
   "execution_count": 56,
   "id": "514ed61a",
   "metadata": {},
   "outputs": [],
   "source": [
    "import time, psutil, os\n",
    "from sklearn import metrics\n",
    "from sklearn.metrics import accuracy_score"
   ]
  },
  {
   "cell_type": "code",
   "execution_count": 57,
   "id": "63f16cb4",
   "metadata": {},
   "outputs": [
    {
     "ename": "NameError",
     "evalue": "name 'X_train_tfidf' is not defined",
     "output_type": "error",
     "traceback": [
      "\u001b[1;31m---------------------------------------------------------------------------\u001b[0m",
      "\u001b[1;31mNameError\u001b[0m                                 Traceback (most recent call last)",
      "Cell \u001b[1;32mIn[57], line 1\u001b[0m\n\u001b[1;32m----> 1\u001b[0m score(X_train_tfidf, y_train, X_val_tfidf, y_val, names \u001b[38;5;241m=\u001b[39m names, models \u001b[38;5;241m=\u001b[39m models)\n",
      "\u001b[1;31mNameError\u001b[0m: name 'X_train_tfidf' is not defined"
     ]
    }
   ],
   "source": [
    "score(X_train_tfidf, y_train, X_val_tfidf, y_val, names = names, models = models)"
   ]
  },
  {
   "cell_type": "code",
   "execution_count": null,
   "id": "f7b6ac1c",
   "metadata": {},
   "outputs": [],
   "source": []
  }
 ],
 "metadata": {
  "kernelspec": {
   "display_name": "Python 3 (ipykernel)",
   "language": "python",
   "name": "python3"
  },
  "language_info": {
   "codemirror_mode": {
    "name": "ipython",
    "version": 3
   },
   "file_extension": ".py",
   "mimetype": "text/x-python",
   "name": "python",
   "nbconvert_exporter": "python",
   "pygments_lexer": "ipython3",
   "version": "3.11.4"
  }
 },
 "nbformat": 4,
 "nbformat_minor": 5
}
